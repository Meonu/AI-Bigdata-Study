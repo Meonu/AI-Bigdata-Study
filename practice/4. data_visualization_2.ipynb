{
 "cells": [
  {
   "attachments": {},
   "cell_type": "markdown",
   "id": "46c51ec9",
   "metadata": {},
   "source": [
    "# seaborn"
   ]
  },
  {
   "attachments": {},
   "cell_type": "markdown",
   "id": "879f41f3",
   "metadata": {},
   "source": [
    "seaborn이란?\n",
    "\n",
    "matplotlib을 기반으로 다양한 색상 테마와 통계용 도표 등의 기능을 추가한 시각화 패키지다.\n",
    "기본적인 시각화 기능은 matplotlib 패키지를, 통계 기능은 statsmodels 패키지를 기반으로 한다.\n",
    "아래의 링크에서 seaborn에 대해 더 자세히 찾아볼 수 있다.\n",
    "https://seaborn.pydata.org/index.html\n",
    "matplotlib과 비교했을때 여러 장점이 있다.\n",
    "\n",
    "- 시각적으로 더 보기 좋다.\n",
    "- 데이터를 다루는 라이브러리인 판다스의 데이터프레임 기능을 제공하기 때문에 CSV 파일 등의 전체 데이터 세트에서 데이터를 불러와서 그릴 수 있다.\n",
    "- 보다 많은 차트와 색 테마들을 지원한다.\n",
    "- 그래프를 보다 쉽게 그려준다.\n",
    "- 데이터의 패턴이나 형상을 그리는데 장점을 보인다.\n",
    "\n",
    "단점은 다음과 같다.\n",
    "\n",
    "- matplotlib와의 호환성 문제로 matplotlib에서 작동하는 함수들이 seaborn에서 작동하지 않는 경우가 간혹 있다."
   ]
  },
  {
   "attachments": {},
   "cell_type": "markdown",
   "id": "c76fab41",
   "metadata": {},
   "source": [
    "# seaborn 설치 및 불러오기"
   ]
  },
  {
   "cell_type": "code",
   "execution_count": 5,
   "id": "65bd232c",
   "metadata": {},
   "outputs": [
    {
     "name": "stdout",
     "output_type": "stream",
     "text": [
      "Defaulting to user installation because normal site-packages is not writeable\n",
      "Requirement already satisfied: matplotlib in /Users/yeonwookim/Library/Python/3.9/lib/python/site-packages (3.7.2)\n",
      "Requirement already satisfied: numpy in /Users/yeonwookim/Library/Python/3.9/lib/python/site-packages (1.25.0)\n",
      "Requirement already satisfied: seaborn in /Users/yeonwookim/Library/Python/3.9/lib/python/site-packages (0.12.2)\n",
      "Requirement already satisfied: contourpy>=1.0.1 in /Users/yeonwookim/Library/Python/3.9/lib/python/site-packages (from matplotlib) (1.1.0)\n",
      "Requirement already satisfied: cycler>=0.10 in /Users/yeonwookim/Library/Python/3.9/lib/python/site-packages (from matplotlib) (0.11.0)\n",
      "Requirement already satisfied: fonttools>=4.22.0 in /Users/yeonwookim/Library/Python/3.9/lib/python/site-packages (from matplotlib) (4.40.0)\n",
      "Requirement already satisfied: kiwisolver>=1.0.1 in /Users/yeonwookim/Library/Python/3.9/lib/python/site-packages (from matplotlib) (1.4.4)\n",
      "Requirement already satisfied: packaging>=20.0 in /Users/yeonwookim/Library/Python/3.9/lib/python/site-packages (from matplotlib) (23.1)\n",
      "Requirement already satisfied: pillow>=6.2.0 in /Users/yeonwookim/Library/Python/3.9/lib/python/site-packages (from matplotlib) (9.4.0)\n",
      "Requirement already satisfied: pyparsing<3.1,>=2.3.1 in /Users/yeonwookim/Library/Python/3.9/lib/python/site-packages (from matplotlib) (3.0.9)\n",
      "Requirement already satisfied: python-dateutil>=2.7 in /Users/yeonwookim/Library/Python/3.9/lib/python/site-packages (from matplotlib) (2.8.2)\n",
      "Requirement already satisfied: importlib-resources>=3.2.0 in /Users/yeonwookim/Library/Python/3.9/lib/python/site-packages (from matplotlib) (5.12.0)\n",
      "Requirement already satisfied: pandas>=0.25 in /Users/yeonwookim/Library/Python/3.9/lib/python/site-packages (from seaborn) (2.0.3)\n",
      "Requirement already satisfied: zipp>=3.1.0 in /Users/yeonwookim/Library/Python/3.9/lib/python/site-packages (from importlib-resources>=3.2.0->matplotlib) (3.13.0)\n",
      "Requirement already satisfied: pytz>=2020.1 in /Users/yeonwookim/Library/Python/3.9/lib/python/site-packages (from pandas>=0.25->seaborn) (2023.3)\n",
      "Requirement already satisfied: tzdata>=2022.1 in /Users/yeonwookim/Library/Python/3.9/lib/python/site-packages (from pandas>=0.25->seaborn) (2023.3)\n",
      "Requirement already satisfied: six>=1.5 in /Library/Developer/CommandLineTools/Library/Frameworks/Python3.framework/Versions/3.9/lib/python3.9/site-packages (from python-dateutil>=2.7->matplotlib) (1.15.0)\n"
     ]
    }
   ],
   "source": [
    "#!python3 -m pip install --upgrade matplotlib numpy seaborn\n",
    "# !pip install --upgrade matplotlib numpy seaborn"
   ]
  },
  {
   "cell_type": "code",
   "execution_count": 14,
   "id": "42c3e5ea",
   "metadata": {},
   "outputs": [
    {
     "name": "stdout",
     "output_type": "stream",
     "text": [
      "Matplotlib version... 3.7.2\n",
      "NumPy version........ 1.25.0\n",
      "Seaborn version........ 0.12.2\n"
     ]
    }
   ],
   "source": [
    "# 버전 확인하기\n",
    "import matplotlib, numpy, seaborn\n",
    "print('Matplotlib version...', matplotlib.__version__)\n",
    "print('NumPy version........', numpy.__version__)\n",
    "print('Seaborn version........', seaborn.__version__)"
   ]
  },
  {
   "cell_type": "code",
   "execution_count": 7,
   "id": "dd756cea",
   "metadata": {},
   "outputs": [],
   "source": [
    "import numpy as np\n",
    "import pandas as pd\n",
    "from matplotlib import pyplot as plt\n",
    "import seaborn as sns"
   ]
  },
  {
   "cell_type": "code",
   "execution_count": 8,
   "id": "fd81910a",
   "metadata": {},
   "outputs": [],
   "source": [
    "# for Jupyter notebook # 한글폰트 설치\n",
    "import platform                \n",
    "\n",
    "from matplotlib import font_manager, rc\n",
    "plt.rcParams['axes.unicode_minus']= False\n",
    "\n",
    "if platform.system() == 'Darwin': # 맥os 사용자의 경우에\n",
    "    rc('font', family = 'AppleGothic')\n",
    "    \n",
    "elif platform.system() == 'Windows': # 윈도우 사용자의 경우에\n",
    "    path = 'c:/Windows/Fonts/malgun.ttf'\n",
    "    font_name = font_manager.FontProperties(fname=path).get_name()\n",
    "    rc('font', family=font_name)"
   ]
  },
  {
   "attachments": {},
   "cell_type": "markdown",
   "id": "5ae0cc10",
   "metadata": {},
   "source": [
    "# Seaborn 제공 함수"
   ]
  },
  {
   "attachments": {},
   "cell_type": "markdown",
   "id": "e62919e7",
   "metadata": {},
   "source": [
    "seaborn에서 제공하는 그래프는 다음과 같다.\n",
    "\n",
    "- histplot():히스토그램\n",
    "- kdeplot():커널밀도추정함수 그래프\n",
    "- displot():분포도\n",
    "- rugplot():러그플롯\n",
    "- barplot():막대그래프\n",
    "- pointplot() : 포인트플롯\n",
    "- boxplot(): 박스플롯\n",
    "- violinplot():바이올린플롯\n",
    "- countplot():카운트플롯"
   ]
  },
  {
   "attachments": {},
   "cell_type": "markdown",
   "id": "928442d8",
   "metadata": {},
   "source": [
    "# 막대 그래프\n"
   ]
  },
  {
   "attachments": {},
   "cell_type": "markdown",
   "id": "91ed50d2",
   "metadata": {},
   "source": [
    "seaborn에서 막대 그래프는 수치형 값의 특정 집계(평균, 합계 등)를 동일한 너비의 여러 막대로 표시하고 각 막대 위에 오차 막대를 그려주는 그래프다.\n",
    "\n",
    "막대 그래프를 작성하려면 barplot 메소드를 주로 barplot(x=None, y=None, hue=None, data=None, order=None, estimator=<function mean at 0x10a2a03b0>, ci=95) 형식으로 사용하면 된다.\n",
    "\n",
    "- x, y 에는 데이터의 변수명을 입력한다.\n",
    "- hue 에도 데이터의 변수명을 입력하며 생성된 막대들을 입력한 변수의 범주에 따라 색으로 나눠준다.\n",
    "- data 는 입력하는 전체 데이터의 이름이다.\n",
    "- order는 입력한 범주형 변수의 범주들을 문자열의 리스트로 입력하여 각 범주가 그래프에 막대로 그려지는 순서를 설정한다.\n",
    "\n",
    "barplot 메소드로 출력하는 도표는 하나이므로 x축과 y축을 라벨링할 때 pyplot.xlabel 과 pyplot.ylabel 메소드를 호출하면 된다.\n",
    "\n",
    "범주별로 생성되는 막대들의 눈금에 라벨을 붙이려면 barplot 메소드가 반환하는 객체인 AxesSubplot을 새로운 변수로 할당하고 set_xticklabels 을 사용한다."
   ]
  },
  {
   "cell_type": "code",
   "execution_count": 20,
   "id": "32656593",
   "metadata": {},
   "outputs": [
    {
     "data": {
      "image/png": "[encoded data removed]",
      "text/plain": [
       "<Figure size 640x480 with 1 Axes>"
      ]
     },
     "metadata": {},
     "output_type": "display_data"
    }
   ],
   "source": [
    "x = np.arange(3)\n",
    "y = [20, 30, 50]\n",
    "\n",
    "## type your code ##\n",
    "ax = sns.barplot(x=x,y=y)\n",
    "ax.set_xticklabels(['미국','일본','대한민국'])\n",
    "\n",
    "plt.xlabel('국가')\n",
    "plt.ylabel(\"count\")\n",
    "\n",
    "plt.show()"
   ]
  },
  {
   "cell_type": "code",
   "execution_count": 10,
   "id": "8aa96b1e",
   "metadata": {},
   "outputs": [
    {
     "data": {
      "text/html": [
       "<div>\n",
       "<style scoped>\n",
       "    .dataframe tbody tr th:only-of-type {\n",
       "        vertical-align: middle;\n",
       "    }\n",
       "\n",
       "    .dataframe tbody tr th {\n",
       "        vertical-align: top;\n",
       "    }\n",
       "\n",
       "    .dataframe thead th {\n",
       "        text-align: right;\n",
       "    }\n",
       "</style>\n",
       "<table border=\"1\" class=\"dataframe\">\n",
       "  <thead>\n",
       "    <tr style=\"text-align: right;\">\n",
       "      <th></th>\n",
       "      <th>page</th>\n",
       "      <th>gender</th>\n",
       "      <th>avg_age</th>\n",
       "    </tr>\n",
       "  </thead>\n",
       "  <tbody>\n",
       "    <tr>\n",
       "      <th>0</th>\n",
       "      <td>a</td>\n",
       "      <td>male</td>\n",
       "      <td>23</td>\n",
       "    </tr>\n",
       "    <tr>\n",
       "      <th>1</th>\n",
       "      <td>b</td>\n",
       "      <td>male</td>\n",
       "      <td>34</td>\n",
       "    </tr>\n",
       "    <tr>\n",
       "      <th>2</th>\n",
       "      <td>c</td>\n",
       "      <td>male</td>\n",
       "      <td>31</td>\n",
       "    </tr>\n",
       "    <tr>\n",
       "      <th>3</th>\n",
       "      <td>d</td>\n",
       "      <td>male</td>\n",
       "      <td>40</td>\n",
       "    </tr>\n",
       "    <tr>\n",
       "      <th>4</th>\n",
       "      <td>a</td>\n",
       "      <td>female</td>\n",
       "      <td>30</td>\n",
       "    </tr>\n",
       "  </tbody>\n",
       "</table>\n",
       "</div>"
      ],
      "text/plain": [
       "  page  gender  avg_age\n",
       "0    a    male       23\n",
       "1    b    male       34\n",
       "2    c    male       31\n",
       "3    d    male       40\n",
       "4    a  female       30"
      ]
     },
     "execution_count": 10,
     "metadata": {},
     "output_type": "execute_result"
    }
   ],
   "source": [
    "# make datasets\n",
    "data = {\n",
    "    'page': ['a', 'b', 'c', 'd', 'a', 'b', 'c', 'd'],\n",
    "    'gender': ['male', 'male', 'male', 'male', 'female', 'female', 'female', 'female'],\n",
    "    'avg_age': [23, 34, 31, 40, 30, 40, 23, 42]\n",
    "}\n",
    "\n",
    "df = pd.DataFrame(data)\n",
    "df.head()"
   ]
  },
  {
   "cell_type": "code",
   "execution_count": 22,
   "id": "56bd4a69",
   "metadata": {},
   "outputs": [
    {
     "data": {
      "image/png": "[encoded data removed]",
      "text/plain": [
       "<Figure size 640x480 with 1 Axes>"
      ]
     },
     "metadata": {},
     "output_type": "display_data"
    }
   ],
   "source": [
    "## type your code ##\n",
    "sns.barplot(data=df, x='page', y='avg_age', hue='gender')\n",
    "plt.ylabel(\"평균 연령대\")\n",
    "plt.xlabel(\"페이지\")\n",
    "plt.show()"
   ]
  },
  {
   "attachments": {},
   "cell_type": "markdown",
   "id": "5d38ae98",
   "metadata": {},
   "source": [
    "## 연습문제 1-1\n",
    "\n",
    "우리가 사용할 dataset은 seaborn에서 제공하는 diamonds dataset이다. diamonds dataset에서 우리는 다이아몬드가 얼마나 clear한지(clarity), 그리고 다이아몬드의 퀄리티는 어떠한지(cut)에 따른 평균 가격(price)의 분포가 궁금하여 막대 그래프를 그리고자 한다. 아래의 과정에 따라 diamonds dataset에서 막대 그래프를 그려보자.\n",
    "\n",
    "조건은 다음과 같다.\n",
    "- title은 \"clarity, cut에 따른 mean price\"이다.\n",
    "- x축 라벨은 \"clarity\"이다.\n",
    "- y축 라벨은 \"평균 가격\"이다."
   ]
  },
  {
   "cell_type": "code",
   "execution_count": 12,
   "id": "63dcfd8e",
   "metadata": {},
   "outputs": [
    {
     "data": {
      "text/html": [
       "<div>\n",
       "<style scoped>\n",
       "    .dataframe tbody tr th:only-of-type {\n",
       "        vertical-align: middle;\n",
       "    }\n",
       "\n",
       "    .dataframe tbody tr th {\n",
       "        vertical-align: top;\n",
       "    }\n",
       "\n",
       "    .dataframe thead th {\n",
       "        text-align: right;\n",
       "    }\n",
       "</style>\n",
       "<table border=\"1\" class=\"dataframe\">\n",
       "  <thead>\n",
       "    <tr style=\"text-align: right;\">\n",
       "      <th></th>\n",
       "      <th>carat</th>\n",
       "      <th>cut</th>\n",
       "      <th>color</th>\n",
       "      <th>clarity</th>\n",
       "      <th>depth</th>\n",
       "      <th>table</th>\n",
       "      <th>price</th>\n",
       "      <th>x</th>\n",
       "      <th>y</th>\n",
       "      <th>z</th>\n",
       "    </tr>\n",
       "  </thead>\n",
       "  <tbody>\n",
       "    <tr>\n",
       "      <th>0</th>\n",
       "      <td>0.23</td>\n",
       "      <td>Ideal</td>\n",
       "      <td>E</td>\n",
       "      <td>SI2</td>\n",
       "      <td>61.5</td>\n",
       "      <td>55.0</td>\n",
       "      <td>326</td>\n",
       "      <td>3.95</td>\n",
       "      <td>3.98</td>\n",
       "      <td>2.43</td>\n",
       "    </tr>\n",
       "    <tr>\n",
       "      <th>1</th>\n",
       "      <td>0.21</td>\n",
       "      <td>Premium</td>\n",
       "      <td>E</td>\n",
       "      <td>SI1</td>\n",
       "      <td>59.8</td>\n",
       "      <td>61.0</td>\n",
       "      <td>326</td>\n",
       "      <td>3.89</td>\n",
       "      <td>3.84</td>\n",
       "      <td>2.31</td>\n",
       "    </tr>\n",
       "    <tr>\n",
       "      <th>2</th>\n",
       "      <td>0.23</td>\n",
       "      <td>Good</td>\n",
       "      <td>E</td>\n",
       "      <td>VS1</td>\n",
       "      <td>56.9</td>\n",
       "      <td>65.0</td>\n",
       "      <td>327</td>\n",
       "      <td>4.05</td>\n",
       "      <td>4.07</td>\n",
       "      <td>2.31</td>\n",
       "    </tr>\n",
       "    <tr>\n",
       "      <th>3</th>\n",
       "      <td>0.29</td>\n",
       "      <td>Premium</td>\n",
       "      <td>I</td>\n",
       "      <td>VS2</td>\n",
       "      <td>62.4</td>\n",
       "      <td>58.0</td>\n",
       "      <td>334</td>\n",
       "      <td>4.20</td>\n",
       "      <td>4.23</td>\n",
       "      <td>2.63</td>\n",
       "    </tr>\n",
       "    <tr>\n",
       "      <th>4</th>\n",
       "      <td>0.31</td>\n",
       "      <td>Good</td>\n",
       "      <td>J</td>\n",
       "      <td>SI2</td>\n",
       "      <td>63.3</td>\n",
       "      <td>58.0</td>\n",
       "      <td>335</td>\n",
       "      <td>4.34</td>\n",
       "      <td>4.35</td>\n",
       "      <td>2.75</td>\n",
       "    </tr>\n",
       "  </tbody>\n",
       "</table>\n",
       "</div>"
      ],
      "text/plain": [
       "   carat      cut color clarity  depth  table  price     x     y     z\n",
       "0   0.23    Ideal     E     SI2   61.5   55.0    326  3.95  3.98  2.43\n",
       "1   0.21  Premium     E     SI1   59.8   61.0    326  3.89  3.84  2.31\n",
       "2   0.23     Good     E     VS1   56.9   65.0    327  4.05  4.07  2.31\n",
       "3   0.29  Premium     I     VS2   62.4   58.0    334  4.20  4.23  2.63\n",
       "4   0.31     Good     J     SI2   63.3   58.0    335  4.34  4.35  2.75"
      ]
     },
     "execution_count": 12,
     "metadata": {},
     "output_type": "execute_result"
    }
   ],
   "source": [
    "# loading dataset\n",
    "# 결과로 출력되는 5개의 행은 diamonds dataset에서 상위 5개 데이터를 추출한 것이다.\n",
    "# 이를 통해 diamonds dataset이 어떻게 구성되어 있는지 알 수 있다.\n",
    "# 우리가 관심있는 column은 clarity, cut, price이다.\n",
    "diamonds = sns.load_dataset('diamonds')\n",
    "diamonds.head()"
   ]
  },
  {
   "cell_type": "code",
   "execution_count": 21,
   "id": "11d75fc7",
   "metadata": {
    "scrolled": true
   },
   "outputs": [
    {
     "data": {
      "text/html": [
       "<div>\n",
       "<style scoped>\n",
       "    .dataframe tbody tr th:only-of-type {\n",
       "        vertical-align: middle;\n",
       "    }\n",
       "\n",
       "    .dataframe tbody tr th {\n",
       "        vertical-align: top;\n",
       "    }\n",
       "\n",
       "    .dataframe thead th {\n",
       "        text-align: right;\n",
       "    }\n",
       "</style>\n",
       "<table border=\"1\" class=\"dataframe\">\n",
       "  <thead>\n",
       "    <tr style=\"text-align: right;\">\n",
       "      <th></th>\n",
       "      <th>clarity</th>\n",
       "      <th>cut</th>\n",
       "      <th>price</th>\n",
       "    </tr>\n",
       "  </thead>\n",
       "  <tbody>\n",
       "    <tr>\n",
       "      <th>0</th>\n",
       "      <td>IF</td>\n",
       "      <td>Ideal</td>\n",
       "      <td>2272.913366</td>\n",
       "    </tr>\n",
       "    <tr>\n",
       "      <th>1</th>\n",
       "      <td>IF</td>\n",
       "      <td>Premium</td>\n",
       "      <td>3856.143478</td>\n",
       "    </tr>\n",
       "    <tr>\n",
       "      <th>2</th>\n",
       "      <td>IF</td>\n",
       "      <td>Very Good</td>\n",
       "      <td>4396.216418</td>\n",
       "    </tr>\n",
       "    <tr>\n",
       "      <th>3</th>\n",
       "      <td>IF</td>\n",
       "      <td>Good</td>\n",
       "      <td>4098.323944</td>\n",
       "    </tr>\n",
       "    <tr>\n",
       "      <th>4</th>\n",
       "      <td>IF</td>\n",
       "      <td>Fair</td>\n",
       "      <td>1912.333333</td>\n",
       "    </tr>\n",
       "    <tr>\n",
       "      <th>5</th>\n",
       "      <td>VVS1</td>\n",
       "      <td>Ideal</td>\n",
       "      <td>2468.129458</td>\n",
       "    </tr>\n",
       "    <tr>\n",
       "      <th>6</th>\n",
       "      <td>VVS1</td>\n",
       "      <td>Premium</td>\n",
       "      <td>2831.206169</td>\n",
       "    </tr>\n",
       "    <tr>\n",
       "      <th>7</th>\n",
       "      <td>VVS1</td>\n",
       "      <td>Very Good</td>\n",
       "      <td>2459.441065</td>\n",
       "    </tr>\n",
       "    <tr>\n",
       "      <th>8</th>\n",
       "      <td>VVS1</td>\n",
       "      <td>Good</td>\n",
       "      <td>2254.774194</td>\n",
       "    </tr>\n",
       "    <tr>\n",
       "      <th>9</th>\n",
       "      <td>VVS1</td>\n",
       "      <td>Fair</td>\n",
       "      <td>3871.352941</td>\n",
       "    </tr>\n",
       "    <tr>\n",
       "      <th>10</th>\n",
       "      <td>VVS2</td>\n",
       "      <td>Ideal</td>\n",
       "      <td>3250.290100</td>\n",
       "    </tr>\n",
       "    <tr>\n",
       "      <th>11</th>\n",
       "      <td>VVS2</td>\n",
       "      <td>Premium</td>\n",
       "      <td>3795.122989</td>\n",
       "    </tr>\n",
       "    <tr>\n",
       "      <th>12</th>\n",
       "      <td>VVS2</td>\n",
       "      <td>Very Good</td>\n",
       "      <td>3037.765182</td>\n",
       "    </tr>\n",
       "    <tr>\n",
       "      <th>13</th>\n",
       "      <td>VVS2</td>\n",
       "      <td>Good</td>\n",
       "      <td>3079.108392</td>\n",
       "    </tr>\n",
       "    <tr>\n",
       "      <th>14</th>\n",
       "      <td>VVS2</td>\n",
       "      <td>Fair</td>\n",
       "      <td>3349.768116</td>\n",
       "    </tr>\n",
       "    <tr>\n",
       "      <th>15</th>\n",
       "      <td>VS1</td>\n",
       "      <td>Ideal</td>\n",
       "      <td>3489.744497</td>\n",
       "    </tr>\n",
       "    <tr>\n",
       "      <th>16</th>\n",
       "      <td>VS1</td>\n",
       "      <td>Premium</td>\n",
       "      <td>4485.462041</td>\n",
       "    </tr>\n",
       "    <tr>\n",
       "      <th>17</th>\n",
       "      <td>VS1</td>\n",
       "      <td>Very Good</td>\n",
       "      <td>3805.353239</td>\n",
       "    </tr>\n",
       "    <tr>\n",
       "      <th>18</th>\n",
       "      <td>VS1</td>\n",
       "      <td>Good</td>\n",
       "      <td>3801.445988</td>\n",
       "    </tr>\n",
       "    <tr>\n",
       "      <th>19</th>\n",
       "      <td>VS1</td>\n",
       "      <td>Fair</td>\n",
       "      <td>4165.141176</td>\n",
       "    </tr>\n",
       "    <tr>\n",
       "      <th>20</th>\n",
       "      <td>VS2</td>\n",
       "      <td>Ideal</td>\n",
       "      <td>3284.550385</td>\n",
       "    </tr>\n",
       "    <tr>\n",
       "      <th>21</th>\n",
       "      <td>VS2</td>\n",
       "      <td>Premium</td>\n",
       "      <td>4550.331248</td>\n",
       "    </tr>\n",
       "    <tr>\n",
       "      <th>22</th>\n",
       "      <td>VS2</td>\n",
       "      <td>Very Good</td>\n",
       "      <td>4215.759552</td>\n",
       "    </tr>\n",
       "    <tr>\n",
       "      <th>23</th>\n",
       "      <td>VS2</td>\n",
       "      <td>Good</td>\n",
       "      <td>4262.236196</td>\n",
       "    </tr>\n",
       "    <tr>\n",
       "      <th>24</th>\n",
       "      <td>VS2</td>\n",
       "      <td>Fair</td>\n",
       "      <td>4174.724138</td>\n",
       "    </tr>\n",
       "    <tr>\n",
       "      <th>25</th>\n",
       "      <td>SI1</td>\n",
       "      <td>Ideal</td>\n",
       "      <td>3752.118169</td>\n",
       "    </tr>\n",
       "    <tr>\n",
       "      <th>26</th>\n",
       "      <td>SI1</td>\n",
       "      <td>Premium</td>\n",
       "      <td>4455.269371</td>\n",
       "    </tr>\n",
       "    <tr>\n",
       "      <th>27</th>\n",
       "      <td>SI1</td>\n",
       "      <td>Very Good</td>\n",
       "      <td>3932.391049</td>\n",
       "    </tr>\n",
       "    <tr>\n",
       "      <th>28</th>\n",
       "      <td>SI1</td>\n",
       "      <td>Good</td>\n",
       "      <td>3689.533333</td>\n",
       "    </tr>\n",
       "    <tr>\n",
       "      <th>29</th>\n",
       "      <td>SI1</td>\n",
       "      <td>Fair</td>\n",
       "      <td>4208.279412</td>\n",
       "    </tr>\n",
       "    <tr>\n",
       "      <th>30</th>\n",
       "      <td>SI2</td>\n",
       "      <td>Ideal</td>\n",
       "      <td>4755.952656</td>\n",
       "    </tr>\n",
       "    <tr>\n",
       "      <th>31</th>\n",
       "      <td>SI2</td>\n",
       "      <td>Premium</td>\n",
       "      <td>5545.936928</td>\n",
       "    </tr>\n",
       "    <tr>\n",
       "      <th>32</th>\n",
       "      <td>SI2</td>\n",
       "      <td>Very Good</td>\n",
       "      <td>4988.688095</td>\n",
       "    </tr>\n",
       "    <tr>\n",
       "      <th>33</th>\n",
       "      <td>SI2</td>\n",
       "      <td>Good</td>\n",
       "      <td>4580.260870</td>\n",
       "    </tr>\n",
       "    <tr>\n",
       "      <th>34</th>\n",
       "      <td>SI2</td>\n",
       "      <td>Fair</td>\n",
       "      <td>5173.916309</td>\n",
       "    </tr>\n",
       "    <tr>\n",
       "      <th>35</th>\n",
       "      <td>I1</td>\n",
       "      <td>Ideal</td>\n",
       "      <td>4335.726027</td>\n",
       "    </tr>\n",
       "    <tr>\n",
       "      <th>36</th>\n",
       "      <td>I1</td>\n",
       "      <td>Premium</td>\n",
       "      <td>3947.331707</td>\n",
       "    </tr>\n",
       "    <tr>\n",
       "      <th>37</th>\n",
       "      <td>I1</td>\n",
       "      <td>Very Good</td>\n",
       "      <td>4078.226190</td>\n",
       "    </tr>\n",
       "    <tr>\n",
       "      <th>38</th>\n",
       "      <td>I1</td>\n",
       "      <td>Good</td>\n",
       "      <td>3596.635417</td>\n",
       "    </tr>\n",
       "    <tr>\n",
       "      <th>39</th>\n",
       "      <td>I1</td>\n",
       "      <td>Fair</td>\n",
       "      <td>3703.533333</td>\n",
       "    </tr>\n",
       "  </tbody>\n",
       "</table>\n",
       "</div>"
      ],
      "text/plain": [
       "   clarity        cut        price\n",
       "0       IF      Ideal  2272.913366\n",
       "1       IF    Premium  3856.143478\n",
       "2       IF  Very Good  4396.216418\n",
       "3       IF       Good  4098.323944\n",
       "4       IF       Fair  1912.333333\n",
       "5     VVS1      Ideal  2468.129458\n",
       "6     VVS1    Premium  2831.206169\n",
       "7     VVS1  Very Good  2459.441065\n",
       "8     VVS1       Good  2254.774194\n",
       "9     VVS1       Fair  3871.352941\n",
       "10    VVS2      Ideal  3250.290100\n",
       "11    VVS2    Premium  3795.122989\n",
       "12    VVS2  Very Good  3037.765182\n",
       "13    VVS2       Good  3079.108392\n",
       "14    VVS2       Fair  3349.768116\n",
       "15     VS1      Ideal  3489.744497\n",
       "16     VS1    Premium  4485.462041\n",
       "17     VS1  Very Good  3805.353239\n",
       "18     VS1       Good  3801.445988\n",
       "19     VS1       Fair  4165.141176\n",
       "20     VS2      Ideal  3284.550385\n",
       "21     VS2    Premium  4550.331248\n",
       "22     VS2  Very Good  4215.759552\n",
       "23     VS2       Good  4262.236196\n",
       "24     VS2       Fair  4174.724138\n",
       "25     SI1      Ideal  3752.118169\n",
       "26     SI1    Premium  4455.269371\n",
       "27     SI1  Very Good  3932.391049\n",
       "28     SI1       Good  3689.533333\n",
       "29     SI1       Fair  4208.279412\n",
       "30     SI2      Ideal  4755.952656\n",
       "31     SI2    Premium  5545.936928\n",
       "32     SI2  Very Good  4988.688095\n",
       "33     SI2       Good  4580.260870\n",
       "34     SI2       Fair  5173.916309\n",
       "35      I1      Ideal  4335.726027\n",
       "36      I1    Premium  3947.331707\n",
       "37      I1  Very Good  4078.226190\n",
       "38      I1       Good  3596.635417\n",
       "39      I1       Fair  3703.533333"
      ]
     },
     "execution_count": 21,
     "metadata": {},
     "output_type": "execute_result"
    }
   ],
   "source": [
    "# diamonds dataset에서 clarity, cut에 따른 평균 가격을 groupby를 이용하여 계산한다.\n",
    "group_diamonds = diamonds.groupby(['clarity', 'cut'])[['price']].mean()\n",
    "group_diamonds.reset_index(level=1, inplace=True)\n",
    "group_diamonds.reset_index(level=0, inplace=True)\n",
    "\n",
    "group_diamonds"
   ]
  },
  {
   "cell_type": "code",
   "execution_count": 26,
   "id": "5c85c2c7",
   "metadata": {},
   "outputs": [
    {
     "data": {
      "image/png": "[encoded data removed]",
      "text/plain": [
       "<Figure size 640x480 with 1 Axes>"
      ]
     },
     "metadata": {},
     "output_type": "display_data"
    }
   ],
   "source": [
    "## type your code ##\n",
    "plt.title(\"clarity, cut에 따른 mean price\") # 타이틀 입력\n",
    "plt.xlabel(\"clarity\") # x label 입력\n",
    "plt.ylabel(\"평균 가격\") # y label 입력\n",
    "\n",
    "# bar plot 그리기 # \n",
    "sns.barplot(data=group_diamonds,x='clarity',y='price',hue='cut')\n",
    "\n",
    "plt.show();"
   ]
  },
  {
   "attachments": {},
   "cell_type": "markdown",
   "id": "ccf3d092",
   "metadata": {},
   "source": [
    "# 카운트 플롯 (Countplot)\n",
    "\n",
    "카운트 플롯은 각 범주별로 데이터가 얼마나 있는지 나타낼 수 있다.\n",
    "\n",
    "카운트 플롯을 작성하려면 countplot 메소드를 주로 countplot(x=None, y=None, hue=None, data=None, color=None, palette=None) 형식으로 사용하면 된다.\n",
    "\n",
    "- x, y, hue 는 데이터의 열 이름(변수명) 문자열이다.\n",
    "    - x 와 y 는 동시에 입력할 수 없다.\n",
    "    - x 만 입력하면 세로로 막대가 그려지고 y 만 입력하면 가로로 막대가 그려진다.\n",
    "    - hue 를 같이 사용하면 범례가 생성되며 다른 범주와 함께 비교할 수 있다.\n",
    "- data 는 입력하는 전체 데이터 값이다.\n",
    "- color 는 막대의 색상을 설정한다.\n",
    "- palette 는 color를 지정하지 않았을 때 자동으로 칠하는 색상 순서를 설정한다. 기본값으로는 파랑, 주황, 초록, 빨강 등의 순서로 칠해지는데 ‘Set3’ 등으로 설정할 수 있다."
   ]
  },
  {
   "cell_type": "code",
   "execution_count": 30,
   "id": "176b168c",
   "metadata": {},
   "outputs": [
    {
     "data": {
      "image/png": "[encoded data removed]",
      "text/plain": [
       "<Figure size 640x480 with 1 Axes>"
      ]
     },
     "metadata": {},
     "output_type": "display_data"
    }
   ],
   "source": [
    "df = sns.load_dataset(\"titanic\")\n",
    "\n",
    "## type your code ##\n",
    "sns.countplot(data=df,x='class',hue='sex')\n",
    "plt.xlabel(\"등급\")\n",
    "plt.ylabel(\"탑승객 수\")\n",
    "plt.title(\"좌석 class별 성별 탑승객 수\")\n",
    "\n",
    "plt.show()"
   ]
  },
  {
   "attachments": {},
   "cell_type": "markdown",
   "id": "8b8ecfee",
   "metadata": {},
   "source": [
    "## 연습문제 1-2\n",
    "\n",
    "우리가 사용할 dataset은 seaborn에서 제공하는 diamonds dataset이다. diamonds dataset에서 우리는 다이아몬드의 색상(color)별 다이아몬드의 수 분포가 궁금하여 카운트 플롯을 그리고자 한다. 아래의 과정에 따라 diamonds dataset에서 카운트 플롯을 그려보자.\n",
    "\n",
    "조건은 다음과 같다.\n",
    "- title은 \"색상별 다이아몬드 수\"이다.\n",
    "- x축 라벨은 \"color\"이다.\n"
   ]
  },
  {
   "cell_type": "code",
   "execution_count": 31,
   "id": "a851cc45",
   "metadata": {},
   "outputs": [
    {
     "data": {
      "text/html": [
       "<div>\n",
       "<style scoped>\n",
       "    .dataframe tbody tr th:only-of-type {\n",
       "        vertical-align: middle;\n",
       "    }\n",
       "\n",
       "    .dataframe tbody tr th {\n",
       "        vertical-align: top;\n",
       "    }\n",
       "\n",
       "    .dataframe thead th {\n",
       "        text-align: right;\n",
       "    }\n",
       "</style>\n",
       "<table border=\"1\" class=\"dataframe\">\n",
       "  <thead>\n",
       "    <tr style=\"text-align: right;\">\n",
       "      <th></th>\n",
       "      <th>carat</th>\n",
       "      <th>cut</th>\n",
       "      <th>color</th>\n",
       "      <th>clarity</th>\n",
       "      <th>depth</th>\n",
       "      <th>table</th>\n",
       "      <th>price</th>\n",
       "      <th>x</th>\n",
       "      <th>y</th>\n",
       "      <th>z</th>\n",
       "    </tr>\n",
       "  </thead>\n",
       "  <tbody>\n",
       "    <tr>\n",
       "      <th>0</th>\n",
       "      <td>0.23</td>\n",
       "      <td>Ideal</td>\n",
       "      <td>E</td>\n",
       "      <td>SI2</td>\n",
       "      <td>61.5</td>\n",
       "      <td>55.0</td>\n",
       "      <td>326</td>\n",
       "      <td>3.95</td>\n",
       "      <td>3.98</td>\n",
       "      <td>2.43</td>\n",
       "    </tr>\n",
       "    <tr>\n",
       "      <th>1</th>\n",
       "      <td>0.21</td>\n",
       "      <td>Premium</td>\n",
       "      <td>E</td>\n",
       "      <td>SI1</td>\n",
       "      <td>59.8</td>\n",
       "      <td>61.0</td>\n",
       "      <td>326</td>\n",
       "      <td>3.89</td>\n",
       "      <td>3.84</td>\n",
       "      <td>2.31</td>\n",
       "    </tr>\n",
       "    <tr>\n",
       "      <th>2</th>\n",
       "      <td>0.23</td>\n",
       "      <td>Good</td>\n",
       "      <td>E</td>\n",
       "      <td>VS1</td>\n",
       "      <td>56.9</td>\n",
       "      <td>65.0</td>\n",
       "      <td>327</td>\n",
       "      <td>4.05</td>\n",
       "      <td>4.07</td>\n",
       "      <td>2.31</td>\n",
       "    </tr>\n",
       "    <tr>\n",
       "      <th>3</th>\n",
       "      <td>0.29</td>\n",
       "      <td>Premium</td>\n",
       "      <td>I</td>\n",
       "      <td>VS2</td>\n",
       "      <td>62.4</td>\n",
       "      <td>58.0</td>\n",
       "      <td>334</td>\n",
       "      <td>4.20</td>\n",
       "      <td>4.23</td>\n",
       "      <td>2.63</td>\n",
       "    </tr>\n",
       "    <tr>\n",
       "      <th>4</th>\n",
       "      <td>0.31</td>\n",
       "      <td>Good</td>\n",
       "      <td>J</td>\n",
       "      <td>SI2</td>\n",
       "      <td>63.3</td>\n",
       "      <td>58.0</td>\n",
       "      <td>335</td>\n",
       "      <td>4.34</td>\n",
       "      <td>4.35</td>\n",
       "      <td>2.75</td>\n",
       "    </tr>\n",
       "  </tbody>\n",
       "</table>\n",
       "</div>"
      ],
      "text/plain": [
       "   carat      cut color clarity  depth  table  price     x     y     z\n",
       "0   0.23    Ideal     E     SI2   61.5   55.0    326  3.95  3.98  2.43\n",
       "1   0.21  Premium     E     SI1   59.8   61.0    326  3.89  3.84  2.31\n",
       "2   0.23     Good     E     VS1   56.9   65.0    327  4.05  4.07  2.31\n",
       "3   0.29  Premium     I     VS2   62.4   58.0    334  4.20  4.23  2.63\n",
       "4   0.31     Good     J     SI2   63.3   58.0    335  4.34  4.35  2.75"
      ]
     },
     "execution_count": 31,
     "metadata": {},
     "output_type": "execute_result"
    }
   ],
   "source": [
    "# loading dataset\n",
    "diamonds = sns.load_dataset('diamonds')\n",
    "diamonds.head()"
   ]
  },
  {
   "cell_type": "code",
   "execution_count": 32,
   "id": "ae2dd1e1",
   "metadata": {},
   "outputs": [
    {
     "data": {
      "image/png": "[encoded data removed]",
      "text/plain": [
       "<Figure size 640x480 with 1 Axes>"
      ]
     },
     "metadata": {},
     "output_type": "display_data"
    }
   ],
   "source": [
    "## type your code ##\n",
    "plt.title(\"색상별 다이아몬드 수\") # 타이틀 입력\n",
    "plt.xlabel(\"color\") # x label 입력\n",
    "    \n",
    "# count plot 그리기 #\n",
    "sns.countplot(data=diamonds,x='color')\n",
    "    \n",
    "plt.show();"
   ]
  },
  {
   "attachments": {},
   "cell_type": "markdown",
   "id": "e3929472",
   "metadata": {},
   "source": [
    "# 러그 플롯 (rugplot)\n",
    "\n",
    "러그 플롯은 데이터 위치를 x축 위에 작은 막대로 나타내어 실제 데이터들의 분포를 시각화한다.\n",
    "\n",
    "러그 플롯을 작성하려면 rugplot 메소드를 주로 rugplot(a, height=0.05, axis=’x’) 형식으로 사용하면 된다.\n",
    "\n",
    "- a 는 입력하는 데이터 값이다. 1차원 배열(1D Arrary) 형태를 가진다.\n",
    "- height 는 막대의 길이를,\n",
    "- axis 는 러그 플롯을 그리는 축을 설정한다. ‘x’ 와 ‘y’ 중 하나를 받으며 기본값은 ‘x’ 로 x축에 러그 플롯을 그린다."
   ]
  },
  {
   "cell_type": "code",
   "execution_count": 33,
   "id": "e4df98ef",
   "metadata": {},
   "outputs": [
    {
     "data": {
      "text/html": [
       "<div>\n",
       "<style scoped>\n",
       "    .dataframe tbody tr th:only-of-type {\n",
       "        vertical-align: middle;\n",
       "    }\n",
       "\n",
       "    .dataframe tbody tr th {\n",
       "        vertical-align: top;\n",
       "    }\n",
       "\n",
       "    .dataframe thead th {\n",
       "        text-align: right;\n",
       "    }\n",
       "</style>\n",
       "<table border=\"1\" class=\"dataframe\">\n",
       "  <thead>\n",
       "    <tr style=\"text-align: right;\">\n",
       "      <th></th>\n",
       "      <th>a</th>\n",
       "      <th>b</th>\n",
       "      <th>c</th>\n",
       "    </tr>\n",
       "  </thead>\n",
       "  <tbody>\n",
       "    <tr>\n",
       "      <th>0</th>\n",
       "      <td>30</td>\n",
       "      <td>64</td>\n",
       "      <td>25</td>\n",
       "    </tr>\n",
       "    <tr>\n",
       "      <th>1</th>\n",
       "      <td>9</td>\n",
       "      <td>45</td>\n",
       "      <td>24</td>\n",
       "    </tr>\n",
       "    <tr>\n",
       "      <th>2</th>\n",
       "      <td>70</td>\n",
       "      <td>53</td>\n",
       "      <td>71</td>\n",
       "    </tr>\n",
       "    <tr>\n",
       "      <th>3</th>\n",
       "      <td>98</td>\n",
       "      <td>10</td>\n",
       "      <td>38</td>\n",
       "    </tr>\n",
       "    <tr>\n",
       "      <th>4</th>\n",
       "      <td>56</td>\n",
       "      <td>67</td>\n",
       "      <td>92</td>\n",
       "    </tr>\n",
       "  </tbody>\n",
       "</table>\n",
       "</div>"
      ],
      "text/plain": [
       "    a   b   c\n",
       "0  30  64  25\n",
       "1   9  45  24\n",
       "2  70  53  71\n",
       "3  98  10  38\n",
       "4  56  67  92"
      ]
     },
     "execution_count": 33,
     "metadata": {},
     "output_type": "execute_result"
    }
   ],
   "source": [
    "# random dataset 생성\n",
    "df = pd.DataFrame(np.random.choice(100, (100, 3)), columns=['a', 'b', 'c'])\n",
    "df.head()"
   ]
  },
  {
   "cell_type": "code",
   "execution_count": 35,
   "id": "48a28687",
   "metadata": {},
   "outputs": [
    {
     "data": {
      "image/png": "[encoded data removed]",
      "text/plain": [
       "<Figure size 640x480 with 1 Axes>"
      ]
     },
     "metadata": {},
     "output_type": "display_data"
    }
   ],
   "source": [
    "## type your code ##\n",
    "sns.rugplot(data=df['a'], height=0.6)\n",
    "plt.title(\"a 러그\")\n",
    "\n",
    "plt.show()"
   ]
  },
  {
   "attachments": {},
   "cell_type": "markdown",
   "id": "74c6e695",
   "metadata": {},
   "source": [
    "# 커널 밀도 플롯 (kdeplot)\n",
    "커널(kernel)이라는 함수를 겹치는 방법으로 히스토그램보다 부드러운 형태의 분포 곡선을 시각화한다.\n",
    "\n",
    "히스토그램은 데이터의 밀도를 간단한 형태로 표현해주는 그래프로서 모양이 막대(bin)의 시작점과 폭에 의존하며 추정한 밀도가 불연속적이라 매끄럽지 못한 경우가 있다. 커널 밀도 플롯은 커널 함수를 사용하여 이런 단점들을 완화한다.\n",
    "\n",
    "커널 함수란 확률 분포를 나타내기에 적합한 함수로서 원점을 중심으로 대칭이고, 적분이 1인 양의 함수를 뜻한다.\n",
    "\n",
    "- 커널 함수에는 가우시안(Gaussian), 코사인(Cosine), Epanechnikov, uniform 등이 있는데, seaborn에서는 기본값으로 가우시안 커널 함수를 사용한다.\n",
    "\n",
    "커널 밀도 플롯을 작성하려면 kdeplot 메소드를 주로 kdeplot(data, data2=None, shade=False, vertical=False, kernel=’gau’) 형식으로 사용하면 된다.\n",
    "\n",
    "- data 는 입력하는 데이터 값이다. 1차원 배열(1D Arrary) 형태를 가진다.\n",
    "- data2 도 입력하는 데이터 값이다. 1차원 배열(1D Arrary) 형태를 가지는데 두 개 변수를 가지는 커널 밀도 플롯을 그릴 때 설정한다.\n",
    "- shade 는 bool 자료형을 입력하여 곡선 아래의 공간을 음영 처리할지 설정하며, 기본값은 False로 음영 처리를 하지 않는다.\n",
    "- vertical 은 bool 자료형을 입력하여 커널 밀도를 표현하는 축을 설정한다. 기본값은 False로 y축에 커널 밀도를 표현한다.\n",
    "- kernel 은 그려지는 커널 밀도의 형태를 설정한다. {‘gau’ | ‘cos’ | ‘biw’ | ‘epa’ | ‘tri’ | ‘triw’ } 중 하나를 선택하며 기본값은 ‘gau’ 다.\n"
   ]
  },
  {
   "cell_type": "code",
   "execution_count": null,
   "id": "c27b20f9",
   "metadata": {},
   "outputs": [],
   "source": [
    "## type your code ##\n",
    "\n",
    "plt.show()"
   ]
  },
  {
   "cell_type": "code",
   "execution_count": null,
   "id": "ec27c704",
   "metadata": {},
   "outputs": [],
   "source": [
    "## type your code ##\n",
    "\n",
    "plt.show()"
   ]
  },
  {
   "attachments": {},
   "cell_type": "markdown",
   "id": "fc177ce0",
   "metadata": {},
   "source": [
    "# 히스토그램 (histogram)\n",
    "히스토그램은 도수분포표를 시각적으로 표현한 막대 그래프다. 즉, 특정 구간에 속하는 자료의 개수를 나타내는 빈도표(frequency table)인 도수분포표를 시각화한 도형으로 비교할 양이나 수치에 대한 구간별 빈도수를 막대 모양의 도형으로 나타낸 그래프다.\n",
    "\n",
    "히스토그램을 작성하려면 distplot 메소드를 주로 distplot(a, bins=None, hist=True, kde=True, rug=False) 형식으로 사용하면 된다.\n",
    "\n",
    "- a 는 입력하는 데이터 값이다. 1차원 배열(1D Array), 리스트(list), 또는 시리즈(series)형태를 가진다.\n",
    "- bins 는 구간 수, 즉 도형에 들어갈 막대의 개수다. 설정하지 않으면 유용한 결과를 가지도록 자동으로 설정된다.\n",
    "- hist 에는 bool 자료형을 입력하여 히스토그램을 그릴지 설정한다. 기본값은 True로 히스토그램을 그린다.\n",
    "- kde 에는 bool 자료형을 입력하여 커널 밀도 플롯을 그릴지 여부를 설정한다. 기본값은 True로 커널 밀도 플롯으로 그린다.\n",
    "- rug 에는 bool 자료형을 입력하여 러그 플롯으로 그릴지 여부를 설정한다. 기본값은 False로 러그 플롯으로 그리지 않는다."
   ]
  },
  {
   "cell_type": "code",
   "execution_count": null,
   "id": "5c5d4635",
   "metadata": {},
   "outputs": [],
   "source": [
    "## type your code ##\n",
    "\n",
    "plt.show()"
   ]
  },
  {
   "attachments": {},
   "cell_type": "markdown",
   "id": "67bb6759",
   "metadata": {},
   "source": [
    "## 연습문제 2-1\n",
    "\n",
    "우리가 사용할 dataset은 seaborn에서 제공하는 mpg dataset이다. mpg dataset에서 우리는 연비(mpg)의 전반적인 분포가 궁금하여 러그 플롯을 그리고자 한다. 아래의 과정에 따라 mpg dataset에서 카운트 플롯을 그려보자.\n",
    "\n",
    "조건은 다음과 같다.\n",
    "- title은 \"연비의 분포\"이다.\n",
    "- x축 라벨은 \"mpg\"이다.\n",
    "- rugplot의 height는 0.7로 설정한다."
   ]
  },
  {
   "cell_type": "code",
   "execution_count": null,
   "id": "dd485e90",
   "metadata": {},
   "outputs": [],
   "source": [
    "# loading dataset\n",
    "# 결과로 출력되는 5개의 행은 mpg dataset에서 상위 5개 데이터를 추출한 것이다.\n",
    "# 이를 통해 mpg dataset이 어떻게 구성되어 있는지 알 수 있다.\n",
    "# 우리가 관심있는 column은 mpg이다.\n",
    "mpg = sns.load_dataset('mpg')\n",
    "mpg.head()"
   ]
  },
  {
   "cell_type": "code",
   "execution_count": null,
   "id": "e05fe0d9",
   "metadata": {},
   "outputs": [],
   "source": [
    "## type your code ##\n",
    "plt.title(# type #) # 타이틀 입력\n",
    "plt.xlabel(# type #) # x label 입력\n",
    "    \n",
    "# rug plot 그리기 #\n",
    "    \n",
    "plt.show();"
   ]
  },
  {
   "attachments": {},
   "cell_type": "markdown",
   "id": "0b77de0d",
   "metadata": {},
   "source": [
    "## 연습문제 2-2\n",
    "\n",
    "이번에 사용할 dataset 역시 seaborn에서 제공하는 mpg dataset이다. mpg dataset에서 우리는 배기량(displacement)과 출력(horsepower)에 따른 전반적인 분포가 궁금하여 kdeplot을 그리고자 한다. 아래의 과정에 따라 mpg dataset에서 kdeplot을 그려보자.\n",
    "\n",
    "조건은 다음과 같다.\n",
    "- title은 \"배기량과 출력에 따른 kdeplot\"이다.\n",
    "- x축에 배기량(displacement), y축에 출력(horsepower)를 둔다.\n",
    "- kdeplot에서 shade를 True로 설정한다."
   ]
  },
  {
   "cell_type": "code",
   "execution_count": null,
   "id": "558cad24",
   "metadata": {},
   "outputs": [],
   "source": [
    "# loading dataset\n",
    "mpg = sns.load_dataset('mpg')\n",
    "\n",
    "## type your code ##\n",
    "plt.title(# type #) # title 설정\n",
    "    \n",
    "# kde plot 그리기 #\n",
    "    \n",
    "plt.show();"
   ]
  },
  {
   "attachments": {},
   "cell_type": "markdown",
   "id": "954d3b3e",
   "metadata": {},
   "source": [
    "## 연습문제 2-3\n",
    "\n",
    "이번에 사용할 dataset 역시 seaborn에서 제공하는 mpg dataset이다. mpg dataset에서 우리는 가속능력(acceleration)에 따른 분포가 궁금하여 distplot을 그리고자 한다. 아래의 과정에 따라 mpg dataset에서 distplot을 그려보자.\n",
    "\n",
    "조건은 다음과 같다.\n",
    "- title은 \"가속능력에 따른 distplot\"이다.\n",
    "- distplot에서 bins는 10로 두고, 커널 밀도 플롯과 러그 플롯을 모두 시각화한다."
   ]
  },
  {
   "cell_type": "code",
   "execution_count": null,
   "id": "9f6d191f",
   "metadata": {},
   "outputs": [],
   "source": [
    "# loading dataset\n",
    "mpg = sns.load_dataset('mpg')\n",
    "\n",
    "## type your code ##\n",
    "plt.title(# type #) # title 설정\n",
    "    \n",
    "# dist plot 그리기 #\n",
    "    \n",
    "plt.show();"
   ]
  },
  {
   "attachments": {},
   "cell_type": "markdown",
   "id": "da3fc349",
   "metadata": {},
   "source": [
    "# 박스 그래프\n",
    "박스 그래프는 데이터의 분포를 시각적으로 표현한 박스 모양의 그래프다. 데이터의 범위, 중앙값과 이상치를 빠르게 확인할 수 있는 장점이 있다.\n",
    "\n",
    "박스 그래프의 기본 통계량 설명\n",
    "- 박스 그래프는 데이터에서 사분위수를 계산하고 제 1 사분위(Q1)와 제 3 사분위(Q3)를 밑변으로 하는 박스를 그린다.\n",
    "- 제 3 사분위 수 Q3은 전체 자료의 중앙값을 기준으로 봤을때 중앙값보다 큰 값들의 중앙값으로 누적 백분율이 25% 에 해당하는 값이다\n",
    "- 제 1 사분위 수 Q1은 전체 자료의 중앙값을 기준으로 봤을때 중앙값보다 작은 값들의 중앙값으로 누적 백분율이 75% 에 해당하는 값이다.\n",
    "- 중앙값의 좌우로부터 동일한 백분율을 가진 두 점간의 거리를 계산하기 위해서 제 3 사분위수에서 제 1 사분위수를 빼서 사분위수 범위 IQR(interquartile range)를 계산한다. Q1 - 1.5 * IQR 보다 작거나 Q3 + 1.5 * IQR 보다 큰 값은 이상치이다.\n",
    "- 박스 그래프 바깥의 선은 이상치를 제외한 최댓값과 최솟값을 의미한다.\n",
    "\n",
    "박스 그래프를 작성하려면 boxplot 메소드를 주로 boxplot(x=None, y=None, hue=None, data=None, order=None, orient=None, fliersize=5) 형식으로 사용하면 된다.\n",
    "\n",
    "- x, y 에는 데이터의 변수명을 입력한다. x 와 y 중 수치형 데이터 값이 적어도 하나는 들어가야 박스 그래프가 생성된다. 범주형 데이터 값을 가지는 변수명과 수치형 데이터 값을 가지는 변수명을 사용하면 범주별로 박스 그래프가 생성된다.\n",
    "- hue 에는 데이터의 변수명이 입력하며 생성한 박스들은 입력한 변수의 범주에 따라 색으로 나눠준다.\n",
    "- data 는 입력하는 전체 데이터의 이름이다. x, y 를 입력하지 않고 data 만 입력하면 전체 데이터를 옆으로 긴 데이터프레임(long-form dataframe)으로 인식하여 수치형 변수들에 대해서만 박스 그래프를 작성한다.\n",
    "- order 에는 문자열의 리스트를 입력하여 각 범주값이 그래프에 박스로 그려지는 순서를 설정한다.\n",
    "- orient 는 ‘v’ 또는 ‘h’ 를 입력해 박스가 그려지는 방향을 vertical(세로) 또는 horizontal(가로)로 설정한다. 기본값은 None으로 x와 y 중 수치형 데이터를 입력한 축의 방향으로 그려진다. 즉 y축에 수치형 데이터 값을 가지는 변수명을 입력하면 박스 그래프는 세로로 그린다. 수치형 변수들에 대해서만 박스 그래프를 작성할 때 사용한다.\n",
    "- fliersize 는 데이터의 이상치를 표시하는 마커의 사이즈를 설정한다."
   ]
  },
  {
   "cell_type": "code",
   "execution_count": null,
   "id": "f607a406",
   "metadata": {},
   "outputs": [],
   "source": [
    "# make datasets\n",
    "label_list1 = ['A', 'B', 'C', 'D']\n",
    "label_list2 = ['X', 'Y', 'Z']\n",
    "\n",
    "array = [[label_list1[i//25]] + [label_list2[i%3]] + list(np.random.choice(100, 3)) for i in range(100)]\n",
    "\n",
    "df = pd.DataFrame(array, columns=['label1', 'label2', 'a', 'b', 'c'])\n",
    "df.head()"
   ]
  },
  {
   "cell_type": "code",
   "execution_count": null,
   "id": "5212e220",
   "metadata": {},
   "outputs": [],
   "source": [
    "## type your code ##\n",
    "\n",
    "plt.show()"
   ]
  },
  {
   "cell_type": "code",
   "execution_count": null,
   "id": "31b3f2ab",
   "metadata": {},
   "outputs": [],
   "source": [
    "## type your code ##\n",
    "\n",
    "plt.show()"
   ]
  },
  {
   "attachments": {},
   "cell_type": "markdown",
   "id": "aa7dfc80",
   "metadata": {},
   "source": [
    "# 바이올린 플롯\n",
    "바이올린 플롯은 박스 그래프를 그리고 그 위에 커널 밀도 플롯을 좌우 대칭으로 그려 데이터의 분포를 표현하는 그래프이다.\n",
    "\n",
    "바이올린 플롯을 작성하려면 violinplot 메소드를 주로 violinplot(x=None, y=None, hue=None, data=None, order=None, scale=’area’, inner=’box', orient=None) 형식으로 사용하면 된다.\n",
    "\n",
    "- x, y 에는 데이터의 변수명을 입력한다. x 와 y 중 수치형 데이터 값이 적어도 하나는 들어가야 바이올린 플롯이 생성된다. 범주형 데이터 값을 가지는 변수명과 수치형 데이터 값을 가지는 변수명을 사용하면 범주별로 바이올린 플롯이 생성된다.\n",
    "- hue 에는 데이터의 변수명을 입력하며 생성한 바이올린 도형들을 입력한 변수의 범주에 따라 색으로 나눠준다.\n",
    "- data 는 입력하는 전체 데이터의 이름이다. x, y 를 입력하지 않고 data만 입력하면 전체 데이터를 옆으로 긴 데이터프레임(long-form dataframe)으로 인식하여 수치형 변수들에 대해서만 바이올린 플롯을 작성한다.\n",
    "- order 에는 문자열의 리스트를 입력하여 각 범주값이 그래프에 바이올린 도형으로 그려지는 순서를 설정한다.\n",
    "- scale은 각 바이올린 도형의 너비를 조정하는 방법이다. {‘area’ | ‘count’ | ‘width’} 중 하나를 선택하여 기본값은 ‘area’ 로 바이올린 도형의 면적(area)이 같도록 한다. ‘count’ 를 입력하면 바이올린 도형의 너비는 데이터 개수에 따라 조정된다. ‘width’ 를 입력하면 모든 바이올린 도형은 같은 너비를 가지게 된다.\n",
    "- inner 는 각 바이올린 도형 내부에 그릴 그래프나 도형을 선택한다. {‘box’ | ‘quartile’ | ‘point’ | ‘stick’ | None}’ 중 하나를 선택하며 기본값은 ‘box’ 로 작은 박스 그래프를 그린다. ‘quartile’ 은 사분위 값을 바이올린 도형안에 점선으로 표시한다. ‘point’ 와 ‘stick’ 는 데이터 포인트를 각각 점과 선으로 표시한다.\n",
    "- orient는 ‘v’ 또는 ‘h’ 를 입력 받아 바이올린 플롯이 그려지는 방향을 vertical(세로) 또는 horizontal(가로)로 설정한다. 기본값은 None으로 x와 y 중 수치형 데이터를 입력한 축의 방향으로 그린다. 즉 y축에 수치형 데이터 값을 가지는 변수명이 입력되면 바이올린 플롯은 세로로 그려진다. 수치형 변수들에 대해서만 바이올린 플롯을 작성할 경우 사용한다."
   ]
  },
  {
   "cell_type": "code",
   "execution_count": null,
   "id": "fa82d599",
   "metadata": {},
   "outputs": [],
   "source": [
    "## type your code ##\n",
    "\n",
    "plt.show()"
   ]
  },
  {
   "attachments": {},
   "cell_type": "markdown",
   "id": "f641236b",
   "metadata": {},
   "source": [
    "## 연습문제 3-1\n",
    "\n",
    "우리가 사용할 dataset은 seaborn에서 제공하는 tips dataset이다. tips dataset에서 우리는 요일(day)별 총 계산 요금(total_bill)의 분포가 궁금하여 요일별 boxplot을 그려보고자 한다. 아래의 과정에 따라 tips dataset에서 boxplot을 그려보자.\n",
    "\n",
    "조건은 다음과 같다.\n",
    "- title은 \"요일별 팁 비용 boxplot\"이다.\n",
    "- x축 tick은 목요일, 금요일, 토요일, 일요일로 라벨링한다.\n",
    "- x축 라벨은 \"요일\"이다.\n",
    "- y축 라벨은 \"총 계산 요금\"이다.\n",
    "- boxplot에서 이상치 점의 사이즈는 2로 설정한다."
   ]
  },
  {
   "cell_type": "code",
   "execution_count": null,
   "id": "93765bf3",
   "metadata": {},
   "outputs": [],
   "source": [
    "# loading dataset\n",
    "# 결과로 출력되는 5개의 행은 tips dataset에서 상위 5개 데이터를 추출한 것이다.\n",
    "# 이를 통해 tips dataset이 어떻게 구성되어 있는지 알 수 있다.\n",
    "# 우리가 관심있는 column은 total_bill, day 이다.\n",
    "tips = sns.load_dataset('tips')\n",
    "\n",
    "tips.head()"
   ]
  },
  {
   "cell_type": "code",
   "execution_count": null,
   "id": "b9e05ee4",
   "metadata": {},
   "outputs": [],
   "source": [
    "## type your code ##\n",
    "plt.title(# type #) # 타이틀 입력\n",
    "plt.xlabel(# type #) # x label 입력\n",
    "plt.ylabel(# type #) # y label 입력\n",
    "    \n",
    "ax = sns.boxplot(# type #) # box plot 그리기\n",
    "ax.set_xticklabels() # x tick label 설정\n",
    "\n",
    "plt.show();"
   ]
  },
  {
   "attachments": {},
   "cell_type": "markdown",
   "id": "515a17d0",
   "metadata": {},
   "source": [
    "## 연습문제 3-2\n",
    "\n",
    "이번에 사용할 dataset도 seaborn에서 제공하는 tips dataset이다. tips dataset에서 우리는 식사 인원(size)과 흡연 여부(smoker)에 따른 팁(tip)의 분포가 궁금하여 violinplot을 그려보고자 한다. 아래의 과정에 따라 tips dataset에서 violinplot을 그려보자.\n",
    "\n",
    "조건은 다음과 같다.\n",
    "- title은 \"식사 인원, 흡연 여부에 따른 tip 요금 violinplot\"이다.\n",
    "- violinplot에서 x를 tip, y를 size로 하고, 가로 방향으로 violinplot을 돌려서 그린다.\n",
    "- violinplot에서 각 데이터 포인트를 \"점\"으로 찍을 수 있도록 옵션을 조정한다.\n",
    "- x축 라벨은 \"팁 비용\"이다.\n",
    "- y축 라벨은 \"식사 인원 수\"이다.\n"
   ]
  },
  {
   "cell_type": "code",
   "execution_count": null,
   "id": "665e8c96",
   "metadata": {},
   "outputs": [],
   "source": [
    "# load datasets\n",
    "tips = sns.load_dataset('tips')\n",
    "\n",
    "plt.figure(figsize=(14, 10)) # figsize 조정 (그대로 두시면 됩니다!)\n",
    "\n",
    "## type your code ##\n",
    "# title, xlabel, ylabel 설정 #\n",
    "\n",
    "# violin plot 그리기 #\n",
    "\n",
    "plt.show();"
   ]
  },
  {
   "attachments": {},
   "cell_type": "markdown",
   "id": "9e7f20ee",
   "metadata": {},
   "source": [
    "# Plotly"
   ]
  },
  {
   "attachments": {},
   "cell_type": "markdown",
   "id": "bcc9df4b",
   "metadata": {},
   "source": [
    "Plotly란?\n",
    "\n",
    "- interactive한 표현을 제공하는 파이썬 그래픽 라이브러리\n",
    "- JavaScript로 구현된 plotly.js 를 기반으로 파이썬에서 생성한 데이터 시각화 객체를 Javascript로 생성해주는 패키지\n",
    "- 사용자의 반응에 따른 동적 인터랙티브 데이터 시각화가 가능\n",
    "- plotly 로 표현시, 사용자가 직접 데이터의 확인이 가능하고, 줌인, 줌아웃 등의 동작을 비교적 쉽게 구현 가능\n",
    "- 지원하는 파이썬의 그래픽 라이브러리를 참고하려면, 아래 링크를 참고\n",
    "    https://plotly.com/python/"
   ]
  },
  {
   "attachments": {},
   "cell_type": "markdown",
   "id": "c95daa81",
   "metadata": {},
   "source": [
    "# Plotly 설치 및 불러오기"
   ]
  },
  {
   "cell_type": "code",
   "execution_count": null,
   "id": "943057e5",
   "metadata": {},
   "outputs": [],
   "source": [
    "!pip3 install plotly"
   ]
  },
  {
   "cell_type": "code",
   "execution_count": null,
   "id": "bb06695f",
   "metadata": {},
   "outputs": [],
   "source": [
    "# 버전 확인하기\n",
    "import plotly\n",
    "print('Plotly version...', plotly.__version__)"
   ]
  },
  {
   "cell_type": "code",
   "execution_count": null,
   "id": "9cd34092",
   "metadata": {},
   "outputs": [],
   "source": [
    "# graph_objects 패키지를  go 로 불러옴\n",
    "import plotly.graph_objects as go\n",
    "\n",
    "# express 패키지를  px로 불러옴\n",
    "import plotly.express as px"
   ]
  },
  {
   "attachments": {},
   "cell_type": "markdown",
   "id": "ba6722f7",
   "metadata": {},
   "source": [
    "# Plotly 기초\n",
    "\n",
    "- graph_objects 모듈을 활용\n",
    "    \n",
    "    - Figure는 Plotly 작업의 기본 단위. \n",
    "    - Figure는 go.Figure() 함수를 통해 생성이 가능. go.Figure 힘수의 구조는 data와 layout 총 2개를 input으로 받는 구조.\n",
    "    \n",
    "        - data는 일명 \"Trace\" 를 Python List 형태로 받는데, Trace는 그리고자 하는 그래프의 타입(ex. Bar, Scatter, Line, Box..)과 그 그래프에 시각화 하고자 하는 Raw 데이터를 품고있는 단위.\n",
    "    \n",
    "        - layout은 그래프의 data와는 무관하고 그외 모든 부분을 편집 및 가공하는 부분. Title, legend, Colors, Hover-label, Axes, Shape 등 그래프 등 시각화를 높히기 위한 다양한 도구들은 모두 layout을 통해 지정.\n",
    "\n",
    "\n",
    "- express 모듈을 활용\n",
    "    \n",
    "    - 그래프를 이미 제작되어있는 템플릿으로 빠르게 제작하는 방법으로 매우 짧은 코드만으로 양질의 그래프를 제작할수있는 high-level 모듈."
   ]
  },
  {
   "attachments": {
    "express_graphobjects.png": {
     "image/png": "[encoded data removed]"
    }
   },
   "cell_type": "markdown",
   "id": "1ba44370",
   "metadata": {},
   "source": [
    "express는 사용자가 빠르게 데이터 분석을 진행할때 활용을 추천.\n",
    "</br>\n",
    "graph_objects 는 논문, 발표자료와 같이 그래프 visualization에 중점을 두었을 경우 활용을 추천.\n",
    "</br>\n",
    "\n",
    "![express_graphobjects.png](attachment:express_graphobjects.png)"
   ]
  },
  {
   "cell_type": "code",
   "execution_count": null,
   "id": "b197ee12",
   "metadata": {},
   "outputs": [],
   "source": [
    "## type your code ##\n",
    "# go.Figure() 함수를 활용하여 기본 그래프를 생성\n",
    "\n",
    "fig.show()"
   ]
  },
  {
   "cell_type": "code",
   "execution_count": null,
   "id": "9ac02415",
   "metadata": {},
   "outputs": [],
   "source": [
    "## type your code ##\n",
    "# px.bar() 함수를 활용해서 bar chart 생성과 동시에 Data, Layout 값 입력\n",
    "\n",
    "fig.show()"
   ]
  },
  {
   "attachments": {},
   "cell_type": "markdown",
   "id": "fddc5aa1",
   "metadata": {},
   "source": [
    "# Basic Charts"
   ]
  },
  {
   "attachments": {},
   "cell_type": "markdown",
   "id": "b3a584bf",
   "metadata": {},
   "source": [
    "## 산점도\n",
    "Scattor Plot(산점도)는 두 변수의 상관관계를 점으로 표현한 그래프이다.\n",
    "\n",
    "산점도를 작성하려면 **scatter** 메소드를 주로 **scatter(*x, y, data_frame=None, color=None, symbol=None, hover_name=None, trendline=None*)** 형식으로 사용하면 된다.\n",
    "- ***x*** 와 ***y*** 는 입력되는 데이터 값이다.\n",
    "- ***data_frame*** 은 입력되는 dataframe이다.\n",
    "- ***color*** 는 색으로 구분하고 싶은 데이터 컬럼명이다.  \n",
    "- ***symbol*** 는 점 스타일을 다르게 반영하고 싶은 데이터 컬럼명이다. \n",
    "- ***hover_name*** 은 tooltip에 볼드체로 이름으로 표시할 데이터 컬럼명이다.\n",
    "- ***trendline*** 는 추세선을 삽입할 수 있는 옵션이다.\n",
    "    - 해당 기능을 사용하기 위해서는 statsmodels 패키지를 추가 설치해야 한다.\n",
    "        ```python\n",
    "            !pip install statsmodels\n",
    "        ```\n",
    "    -  trendline = {\"ols\", \"lowess\", \"rolling\", \"ewm\", \"expanding\" } 추세선의 종류를 선택할 수 있다.\n",
    "        - ols : ordinary least square의 약자로 최소자승법으로 회귀 모델\n",
    "        - lowess : locally weighted scatterplot smoothing\n",
    "        - rolling : 기본 이동 평균선\n",
    "        - expanding : Cumulative 이동 평균선\n",
    "        - ewm : exponentially weighted 이동평균선"
   ]
  },
  {
   "cell_type": "code",
   "execution_count": null,
   "id": "95308440",
   "metadata": {},
   "outputs": [],
   "source": [
    "## type your code ##\n",
    "\n",
    "fig.show()"
   ]
  },
  {
   "cell_type": "code",
   "execution_count": null,
   "id": "97f44311",
   "metadata": {},
   "outputs": [],
   "source": [
    "df = sns.load_dataset(\"iris\")\n",
    "\n",
    "## type your code ##\n",
    "\n",
    "fig.show()"
   ]
  },
  {
   "attachments": {},
   "cell_type": "markdown",
   "id": "5db0cdf8",
   "metadata": {},
   "source": [
    "## 버블 차트 (Bubble Charts)\n",
    "\n",
    "버블 차트는 marker의 사이즈를 이용해 3차원의 데이터를 표현할 수 있는 산점도이다. 즉, 산점도의 특수한 케이스로 이해하면 된다.\n",
    "\n",
    "버블 차트를 작성하려면 **scatter** 메소드를 주로 **scatter(*x, y, data_frame=None, size=None*)** 형식으로 사용하면 된다.\n",
    "\n",
    "- ***x***, ***y***, ***data_frame***은 위의 산점도에서 기술했던 것과 같은 항목이다.\n",
    "- ***size*** 는 점 크기를 달리 할 기준이 되는 데이터 컬럼명이다."
   ]
  },
  {
   "cell_type": "code",
   "execution_count": null,
   "id": "5f631407",
   "metadata": {},
   "outputs": [],
   "source": [
    "# make dataframe\n",
    "df = pd.DataFrame(\n",
    "    [\n",
    "        [1, 10, 400],\n",
    "        [2, 11, 200],\n",
    "        [3, 12, 800],\n",
    "        [4, 13, 2000]\n",
    "    ],\n",
    "    columns=[\"x\", \"y\", \"population\"]\n",
    ")\n",
    "\n",
    "df.head()"
   ]
  },
  {
   "cell_type": "code",
   "execution_count": null,
   "id": "bf7cd544",
   "metadata": {},
   "outputs": [],
   "source": [
    "## type your code ##\n",
    "\n",
    "fig.show()"
   ]
  },
  {
   "attachments": {},
   "cell_type": "markdown",
   "id": "20357edf",
   "metadata": {},
   "source": [
    "## 간트차트 (Gantt Charts)\n",
    "\n",
    "Gantt Chart 시간 경과에 따른 프로젝트 계획을 시각화하는 방법으로 어떤 작업이 언제, 누구에 의해 완료될 예정인지 보여준다.\n",
    "\n",
    "간트 차트를 작성하려면 **timeline** 메소드를 주로 **timeline(*data_frame, x_start, x_end, y, color=None*)** 형식으로 사용하면 된다.\n",
    "\n",
    "- ***data_frame*** 은 입력되는 dataframe이다.\n",
    "- ***x_start*** 는 일정 시작 컬럼, ***x_end*** 는 일정 끝 컬럼이다.\n",
    "- ***y*** 는 y축에 들어갈 범주형 데이터이다.\n",
    "- ***color*** 는 색으로 구분하고 싶은 범주형 데이터 컬럼명이다. 주로 프로젝트별 담당자를 구분할 때 사용한다."
   ]
  },
  {
   "cell_type": "code",
   "execution_count": null,
   "id": "a55de1f2",
   "metadata": {},
   "outputs": [],
   "source": [
    "# 데이터셋 만들기\n",
    "df = pd.DataFrame([\n",
    "    dict(Task=\"Job A\", Start='2009-01-01', Finish='2009-02-28', Resource=\"Alex\"),\n",
    "    dict(Task=\"Job B\", Start='2009-03-05', Finish='2009-04-15', Resource=\"Alex\"),\n",
    "    dict(Task=\"Job C\", Start='2009-02-20', Finish='2009-05-30', Resource=\"Max\")\n",
    "])\n",
    "\n",
    "df.head()"
   ]
  },
  {
   "cell_type": "code",
   "execution_count": null,
   "id": "f8f3f4bc",
   "metadata": {},
   "outputs": [],
   "source": [
    "## type your code ##\n",
    "\n",
    "# 위에서부터 시작하게 Y축 역방향으로 설정\n",
    "fig.update_yaxes(autorange=\"reversed\")\n",
    "fig.show()"
   ]
  },
  {
   "attachments": {},
   "cell_type": "markdown",
   "id": "ce277efd",
   "metadata": {},
   "source": [
    "## 연습문제 4-1\n",
    "\n",
    "이번에 사용할 dataset은 plotly에서 제공하는 gapminder dataset이다. gapminder dataset에서 1972년 데이터의 1인당 GDP(gdpPercap)와 기대수명(lifeExp) 사이의 관계가 궁금하여, 이 둘을 축으로 하는 산점도를 그려보고자 한다. 아래의 과정에 따라 gapminder dataset에서 산점도를 그려보자.\n",
    "\n",
    "조건은 다음과 같다.\n",
    "- x축은 1인당 GDP, y축은 기대수명으로 한다.\n",
    "- 연도에 따라 색상을 달리하여 산점도를 그린다.\n",
    "- 추세선은 ols로 삽입한다."
   ]
  },
  {
   "cell_type": "code",
   "execution_count": null,
   "id": "25d6d46d",
   "metadata": {},
   "outputs": [],
   "source": [
    "# loading dataset\n",
    "# 1972년 데이터를 추출한다.\n",
    "# 결과로 출력되는 5개의 행은 gapminder dataset에서 상위 5개 데이터를 추출한 것이다.\n",
    "# 이를 통해 gapminder dataset이 어떻게 구성되어 있는지 알 수 있다.\n",
    "# 우리가 관심있는 column은 lifeExp, year, gdpPercap 이다.\n",
    "gapminder = px.data.gapminder()\n",
    "gapminder['year'] = gapminder['year'].astype(str)\n",
    "\n",
    "gapminder.head()"
   ]
  },
  {
   "cell_type": "code",
   "execution_count": null,
   "id": "18069ff3",
   "metadata": {},
   "outputs": [],
   "source": [
    "## type your code ##\n",
    "fig = px.scatter(# type #) # 산점도 그리기\n",
    "\n",
    "fig.show()"
   ]
  },
  {
   "attachments": {},
   "cell_type": "markdown",
   "id": "9820800a",
   "metadata": {},
   "source": [
    "## 연습문제 4-2\n",
    "\n",
    "이번에 사용할 dataset은 plotly에서 제공하는 gapminder dataset이다. gapminder dataset에서 우리는 2007년 데이터셋에 대해, 1인당 GDP(gdpPercap)와 기대수명(lifeExp)를 축으로 하고, 각 국가의 인구 수(pop)를 버블의 크기로 하는 버블 차트를 그려보고자 한다. 아래의 과정에 따라 gapminder dataset에서 버블 차트를 그려보자.\n",
    "\n",
    "조건은 다음과 같다.\n",
    "- x축은 1인당 GDP, y축은 기대수명으로 한다.\n",
    "- 버블의 크기는 인구수에 따라 달리 한다.\n",
    "- 대륙 (continent)에 따라 버블의 색상(color)를 달리 한다.\n",
    "- size_max 옵션은 60으로 설정한다.\n",
    "- 깔끔한 결과를 위하여 log_x 옵션을 True로 설정한다.\n",
    "- tooltip에 각 데이터 포인트의 이름을 표시하기 위하여, 나라명(country)으로 설정한다."
   ]
  },
  {
   "cell_type": "code",
   "execution_count": null,
   "id": "5e92dead",
   "metadata": {},
   "outputs": [],
   "source": [
    "# loading dataset\n",
    "# 데이터셋에서 연도가 2007년인 것만 추출하였다.\n",
    "# 결과로 출력되는 5개의 행은 gapminder dataset에서 상위 5개 데이터를 추출한 것이다.\n",
    "# 이를 통해 gapminder dataset이 어떻게 구성되어 있는지 알 수 있다.\n",
    "# 우리가 관심있는 column은 continent, lifeExp, pop, gdpPercap 이다.\n",
    "gapminder = px.data.gapminder()\n",
    "\n",
    "df_2007 = gapminder[gapminder['year']==2007]\n",
    "df_2007.head()"
   ]
  },
  {
   "cell_type": "code",
   "execution_count": null,
   "id": "eae76936",
   "metadata": {},
   "outputs": [],
   "source": [
    "## type your code ##\n",
    "fig = px.scatter(# type #) # 버블 차트 그리기\n",
    "\n",
    "fig.show()"
   ]
  },
  {
   "attachments": {},
   "cell_type": "markdown",
   "id": "854b88d0",
   "metadata": {},
   "source": [
    "# Scientific Charts"
   ]
  },
  {
   "attachments": {},
   "cell_type": "markdown",
   "id": "96dfd1cb",
   "metadata": {},
   "source": [
    "## 히트맵 (Heatmap)\n",
    "\n",
    "Heatmaps 은 열을 뜻하는 히트(heat)와 지도를 뜻하는 맵(map)을 결합시킨 단어로, 2차원 평면 위애 색을 활용하여 다양한 정보를 표현하는 방법이다.\n",
    "\n",
    "히트맵을 작성하려면 **imshow** 메소드를 주로 **imshow(*data, labels=None, x=None, y=None, text_auto=False*)** 형식으로 사용하면 된다.\n",
    "\n",
    "- ***data*** 은 입력되는 dataframe이다.\n",
    "- ***labels*** 는 x축 라벨, y축 라벨에 들어갈 문구를 선택할 수 있다.\n",
    "- ***x*** 는 x축 axis에 들어갈 값, ***y*** 는 y축 axis에 들어갈 값이다.\n",
    "- ***text_auto*** 는 값을 표시할지 선택하는 옵션이다. 기본값은 False이고, True로 설정하면 각 element의 수치를 히트맵에 표시할 수 있다."
   ]
  },
  {
   "cell_type": "code",
   "execution_count": null,
   "id": "c9efa7ff",
   "metadata": {},
   "outputs": [],
   "source": [
    "## type your code ##\n",
    "\n",
    "fig.show()"
   ]
  },
  {
   "cell_type": "code",
   "execution_count": null,
   "id": "87f61988",
   "metadata": {},
   "outputs": [],
   "source": [
    "data=[[1, 25, 30, 50, 1], [20, 1, 60, 80, 30], [30, 60, 1, 5, 20]]\n",
    "\n",
    "## type your code ##\n",
    "\n",
    "fig.show()"
   ]
  },
  {
   "attachments": {},
   "cell_type": "markdown",
   "id": "c484a0eb",
   "metadata": {},
   "source": [
    "## 레이더 차트 (Radar Chart)\n",
    "\n",
    "Radar Chart는 Spider Plot 또는 Star Plot 이라고도 불리며 한국말로는 방사형 차트이다. 축에 매핑된 3개 이상의 정량적 변수에 대한 다변량 데이터를 표시한다. 해당 제품, 서비스 또는 스포츠 선수 능력치와 같은 유사점 차이점 및 이상값을 한눈에 파악이 쉽다.\n",
    "\n",
    "레이더 차트를 작성하려면 **line_polar** 메소드를 주로 **line_polar(*data_frame, r=None, theta=None, color=None, line_close=False*)** 형식으로 사용하면 된다.\n",
    "\n",
    "- ***data_frame*** 은 입력되는 dataframe이다.\n",
    "- ***r*** 은 레이더 차트에서 각 row의 크기를 결정할 수치형 컬럼명, ***theta*** 는 레이더 차트에서 각 row의 이름을 결정할 범주형 컬럼명이다.\n",
    "- ***color*** 는 카테고리컬 데이터 별 Radar 그래프 생성을 하는 컬럼명이다.\n",
    "- ***line_close*** 는 레이더 차트의 선을 닫을지 결정하는 옵션으로, 기본값은 False이다."
   ]
  },
  {
   "cell_type": "code",
   "execution_count": null,
   "id": "71b928c6",
   "metadata": {},
   "outputs": [],
   "source": [
    "# 데이터 생성\n",
    "df = pd.DataFrame(dict(\n",
    "    r=[1, 5, 2, 2, 3],\n",
    "    theta=['파워 (장타력)','스피드 (주루)','컨택트 (타격 정확도)',\n",
    "           '순발력 & 핸들링 (수비)', '어깨 (송구 능력)']))\n",
    "\n",
    "df"
   ]
  },
  {
   "cell_type": "code",
   "execution_count": null,
   "id": "afe806dd",
   "metadata": {},
   "outputs": [],
   "source": [
    "## type your code ##\n",
    "\n",
    "fig.show()"
   ]
  },
  {
   "cell_type": "code",
   "execution_count": null,
   "id": "25b86412",
   "metadata": {},
   "outputs": [],
   "source": [
    "# 데이터 생성\n",
    "df = pd.DataFrame(dict(\n",
    "    r=list(np.random.choice(np.arange(1, 6), (20))),\n",
    "    theta=['파워 (장타력)','스피드 (주루)','컨택트 (타격 정확도)',\n",
    "           '순발력 & 핸들링 (수비)', '어깨 (송구 능력)'] * 4,\n",
    "    name=[f\"player_{i//5+1}\" for i in range(20)])\n",
    ")\n",
    "\n",
    "df"
   ]
  },
  {
   "cell_type": "code",
   "execution_count": null,
   "id": "759ed6e2",
   "metadata": {},
   "outputs": [],
   "source": [
    "## type your code ##\n",
    "\n",
    "fig.show()"
   ]
  },
  {
   "attachments": {},
   "cell_type": "markdown",
   "id": "6e5cdabc",
   "metadata": {},
   "source": [
    "## 연습문제 5-1\n",
    "\n",
    "이번에 사용할 dataset은 plotly에서 제공하는 medal_wide dataset이다. medal_wide dataset은 국가별 금메달, 은메달, 동메달 수를 가지고 있는 데이터인데, 해당 데이터로 히트맵을 그려보고자 한다. 아래의 과정에 따라 medal_wide dataset에서 히트맵을 그려보자.\n",
    "\n",
    "조건은 다음과 같다.\n",
    "- x축 라벨은 \"국가\", y축 라벨은 \"메달 수\"로 설정한다.\n",
    "- x의 각 axis에는 세 국가 (South Korea, China, Canada), y의 각 axis에는 세 메달 종류 (gold, silver, bronze) 로 설정한다.\n",
    "- 각 value가 히트맵 안에 보이도록 옵션을 조정한다."
   ]
  },
  {
   "cell_type": "code",
   "execution_count": null,
   "id": "7cdd1c19",
   "metadata": {},
   "outputs": [],
   "source": [
    "# loading dataset\n",
    "# 출력 결과로 medal_wide dataset이 어떻게 구성되어 있는지 알 수 있다.\n",
    "df = px.data.medals_wide(indexed=True)\n",
    "\n",
    "df"
   ]
  },
  {
   "cell_type": "code",
   "execution_count": null,
   "id": "278ae601",
   "metadata": {},
   "outputs": [],
   "source": [
    "## type your code ##\n",
    "fig = px.imshow(# type #) # 히트맵 그리기\n",
    "\n",
    "fig.show()"
   ]
  },
  {
   "attachments": {},
   "cell_type": "markdown",
   "id": "cb17cac7",
   "metadata": {},
   "source": [
    "## 연습문제 5-2\n",
    "\n",
    "이번에 사용할 dataset 역시 plotly에서 제공하는 medal_wide dataset이다. 해당 데이터를 적절히 전처리하여 새로운 데이터를 생성하고, 국가별 금메달 수, 은메달 수, 동메달 수를 레이더 차트로 그려보고자 한다. 아래의 과정에 따라 medal_wide dataset에서 레이더 차트를 그려보자.\n",
    "\n",
    "조건은 다음과 같다.\n",
    "- 레이더 차트의 크기는 매달 개수 (medal_cnt)로 설정한다.\n",
    "- 레이더 차트의 라벨은 메달 타입 (medal_type)으로 설정한다.\n",
    "- 국가별 레이더 차트를 그리기 위하여, 국가에 따라 레이더 차트의 색상을 달리 한다.\n",
    "- 레이더 차트를 이어주는 옵션을 사용한다."
   ]
  },
  {
   "cell_type": "code",
   "execution_count": null,
   "id": "d34fd456",
   "metadata": {},
   "outputs": [],
   "source": [
    "# loading dataset\n",
    "# 기존 medal_wide dataset을 flatten한 데이터이다.\n",
    "df = px.data.medals_wide(indexed=True)\n",
    "\n",
    "df_flatten = pd.DataFrame(dict(\n",
    "    country = [list(df.index)[i//3] for i in range(9)],\n",
    "    medal_type= list(df.columns) * len(df),\n",
    "    medal_cnt=df.values.flatten())\n",
    ")\n",
    "\n",
    "df_flatten"
   ]
  },
  {
   "cell_type": "code",
   "execution_count": null,
   "id": "9c2e3daa",
   "metadata": {},
   "outputs": [],
   "source": [
    "## type your code ##\n",
    "fig = px.line_polar(# type #) # 레이더 차트 그리기\n",
    "\n",
    "fig.show()"
   ]
  },
  {
   "attachments": {},
   "cell_type": "markdown",
   "id": "7b1ee6bc",
   "metadata": {},
   "source": [
    "# Financial Charts"
   ]
  },
  {
   "attachments": {},
   "cell_type": "markdown",
   "id": "a698068b",
   "metadata": {},
   "source": [
    "## 캔들스틱 차트 (Candlestick Chart)\n",
    "\n",
    "Candlestick chart는 캔들스틱차트 또는 봉차트 라고 불리우며 주식을 비롯한 유가증권과 파생상품, 환율의 가젹 움직임을 보여주는 금융 차트이다.\n",
    "\n",
    "캔들스틱 차트는 plotly의 express에서는 지원하지 않는다. 따라서 해당 차트는 예외적으로 plotly의 graph_objects를 이용하여 그릴 것이다.\n",
    "\n",
    "캔들스틱 차트를 작성하려면 **graph_objects.Candlestick** 메소드를 주로 **graph_objects.Candlestick(*x, open, high, low, close*)** 형식으로 사용하면 된다.\n",
    "\n",
    "- ***x*** 는 날짜 리스트이다.\n",
    "- ***open*** 는 시가 리스트이다.\n",
    "- ***high*** 는 고가 리스트이다.\n",
    "- ***low*** 는 저가 리스트이다.\n",
    "- ***close*** 는 종가 리스트이다."
   ]
  },
  {
   "cell_type": "code",
   "execution_count": null,
   "id": "458f0501",
   "metadata": {},
   "outputs": [],
   "source": [
    "# 예시 데이터\n",
    "data = [\n",
    "    {'date': '2022-01-01', 'open': 100, 'high': 150, 'low': 80, 'close': 120},\n",
    "    {'date': '2022-01-02', 'open': 110, 'high': 160, 'low': 90, 'close': 130},\n",
    "    {'date': '2022-01-03', 'open': 120, 'high': 170, 'low': 100, 'close': 140},\n",
    "    {'date': '2022-01-04', 'open': 130, 'high': 170, 'low': 110, 'close': 140},\n",
    "    {'date': '2022-01-05', 'open': 140, 'high': 160, 'low': 120, 'close': 140},\n",
    "    {'date': '2022-01-06', 'open': 120, 'high': 170, 'low': 100, 'close': 130},\n",
    "    {'date': '2022-01-07', 'open': 160, 'high': 180, 'low': 140, 'close': 150},\n",
    "    {'date': '2022-01-08', 'open': 150, 'high': 190, 'low': 150, 'close': 160},\n",
    "    {'date': '2022-01-09', 'open': 130, 'high': 160, 'low': 110, 'close': 130},\n",
    "    {'date': '2022-01-10', 'open': 150, 'high': 190, 'low': 130, 'close': 140},\n",
    "    \n",
    "]\n",
    "\n",
    "df = pd.DataFrame(data)\n",
    "\n",
    "df"
   ]
  },
  {
   "cell_type": "code",
   "execution_count": null,
   "id": "386ea4bb",
   "metadata": {},
   "outputs": [],
   "source": [
    "## type your code ##\n",
    "\n",
    "fig.update_layout(xaxis_rangeslider_visible=False)\n",
    "fig.show()"
   ]
  },
  {
   "attachments": {},
   "cell_type": "markdown",
   "id": "f05b1e80",
   "metadata": {},
   "source": [
    "## 퍼널 차트 (Funnel Chart)\n",
    "\n",
    "퍼널 차트는 비즈니스에서 각 단계의 고객 수 혹은 이탈율 등을 파악하기 위하여 그리는 차트이다. 비즈니스에서 각 단계 중 어떤 프로세스에서 병목 현상이 생기는지 파악하는 것은 중요하다. 그것을 도와주는 것이 퍼널 차트이다.\n",
    "\n",
    "퍼널 차트를 작성하려면 **funnel** 메소드를 주로 **funnel(*data, x, y, color*)** 형식으로 사용하면 된다.\n",
    "\n",
    "- ***data*** 는 퍼널 차트를 그릴 데이터이다.\n",
    "- ***x*** 는 각 퍼널의 크기를 결정할 수치형 컬럼명이다.\n",
    "- ***y*** 는 각 퍼널의 이름을 결정할 범주형 컬럼명이다.\n",
    "- ***color*** 는 색상을 달리 하여 퍼널 차트를 그릴 기준이 되는 컬럼명이다."
   ]
  },
  {
   "cell_type": "code",
   "execution_count": null,
   "id": "49fca6b2",
   "metadata": {},
   "outputs": [],
   "source": [
    "# make datasets\n",
    "stages = [\"Website visit\", \"Downloads\", \"Potential customers\", \"Requested price\", \"invoice sent\"]\n",
    "df_mtl = pd.DataFrame(dict(number=[39, 27.4, 20.6, 11, 3], stage=stages))\n",
    "df_mtl['office'] = 'Montreal'\n",
    "df_toronto = pd.DataFrame(dict(number=[52, 36, 18, 14, 5], stage=stages))\n",
    "df_toronto['office'] = 'Toronto'\n",
    "df = pd.concat([df_mtl, df_toronto], axis=0)\n",
    "\n",
    "df"
   ]
  },
  {
   "cell_type": "code",
   "execution_count": null,
   "id": "b7dfd353",
   "metadata": {},
   "outputs": [],
   "source": [
    "## type your code ##\n",
    "\n",
    "fig.show()"
   ]
  },
  {
   "attachments": {},
   "cell_type": "markdown",
   "id": "d68e0579",
   "metadata": {},
   "source": [
    "## 연습문제 6-1\n",
    "\n",
    "이번에 사용할 dataset은 plotly에서 제공하는 Apple의 2015년부터 2017년 까지의 주가 데이터이다. 해당 데이터는 애플의 시가, 종가, 고가, 저가 데이터를 모두 가지고 있다. 아래의 과정에 따라 캔들스틱 차트를 그려보자.\n",
    "\n",
    "조건은 다음과 같다.\n",
    "- 시가는 AAPL.Open, 고가는 AAPL.High, 저가는 AAPL.Low, 종가는 AAPL.Close이다.\n",
    "- 시각화의 편의를 위하여 다음 코드를 추가한다.\n",
    "```python\n",
    "fig.update_layout(xaxis_rangeslider_visible=False)\n",
    "```"
   ]
  },
  {
   "cell_type": "code",
   "execution_count": null,
   "id": "861845b3",
   "metadata": {},
   "outputs": [],
   "source": [
    "df = pd.read_csv('https://raw.githubusercontent.com/plotly/datasets/master/finance-charts-apple.csv')\n",
    "df.head()"
   ]
  },
  {
   "cell_type": "code",
   "execution_count": null,
   "id": "4278747e",
   "metadata": {},
   "outputs": [],
   "source": [
    "## type your code ##\n",
    "fig = go.Figure(data=[# type #]) # 캔들스틱 차트 그리기\n",
    "\n",
    "fig.show()"
   ]
  },
  {
   "attachments": {},
   "cell_type": "markdown",
   "id": "c98d68fa",
   "metadata": {},
   "source": [
    "## 연습문제 7\n",
    "\n",
    "이번 연습문제에서 사용할 데이터는 kaggle에서 제공하는 포켓몬 데이터셋이다.\n",
    "\n",
    "데이터의 컬럼에 대한 설명은 다음과 같다.\n",
    "- #: ID for each pokemon\n",
    "- Name: Name of each pokemon\n",
    "- Type 1: Each pokemon has a type, this determines weakness/resistance to attacks\n",
    "- Type 2: Some pokemon are dual type and have 2\n",
    "- Total: sum of all stats that come after this, a general guide to how strong a pokemon is\n",
    "- HP: hit points, or health, defines how much damage a pokemon can withstand before fainting\n",
    "- Attack: the base modifier for normal attacks (eg. Scratch, Punch)\n",
    "- Defense: the base damage resistance against normal attacks\n",
    "- SP Atk: special attack, the base modifier for special attacks (e.g. fire blast, bubble beam)\n",
    "- SP Def: the base damage resistance against special attacks\n",
    "- Speed: determines which pokemon attacks first each round\n",
    "\n",
    "\n",
    "다음 데이터를 이용하여, 이번 강의에서 학습한 여러 그래프를 그려보는 시간을 가질 것이다. 포켓몬 데이터셋을 이용하여 자유롭게 2가지 이상의 그래프를 그려보자. 강의에서 학습한 그래프도 괜찮고, 다른 그래프도 괜찮다."
   ]
  },
  {
   "cell_type": "code",
   "execution_count": null,
   "id": "62e4a9c7",
   "metadata": {},
   "outputs": [],
   "source": [
    "# loading datasets\n",
    "# 포켓몬 데이터셋이다.\n",
    "pokemon = pd.read_csv(\"Pokemon.csv\")\n",
    "pokemon.head()"
   ]
  },
  {
   "cell_type": "code",
   "execution_count": null,
   "id": "0a6807dd",
   "metadata": {},
   "outputs": [],
   "source": [
    "# 그래프 1\n",
    "## type your code ##"
   ]
  },
  {
   "cell_type": "code",
   "execution_count": null,
   "id": "ac3acb30",
   "metadata": {},
   "outputs": [],
   "source": [
    "# 그래프 2\n",
    "## type your code ##"
   ]
  },
  {
   "attachments": {},
   "cell_type": "markdown",
   "id": "86b486e9",
   "metadata": {},
   "source": [
    "<img src='https://t3.ftcdn.net/jpg/02/92/36/76/360_F_292367633_TwzHFo2XLSSbcihgxESm2sKcQ0NlwrIG.jpg' alt=\"The end\" />"
   ]
  }
 ],
 "metadata": {
  "kernelspec": {
   "display_name": "Python 3 (ipykernel)",
   "language": "python",
   "name": "python3"
  },
  "language_info": {
   "codemirror_mode": {
    "name": "ipython",
    "version": 3
   },
   "file_extension": ".py",
   "mimetype": "text/x-python",
   "name": "python",
   "nbconvert_exporter": "python",
   "pygments_lexer": "ipython3",
   "version": "3.9.6"
  }
 },
 "nbformat": 4,
 "nbformat_minor": 5
}
