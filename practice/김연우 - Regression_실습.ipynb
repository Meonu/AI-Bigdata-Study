{
  "cells": [
    {
      "cell_type": "markdown",
      "metadata": {
        "id": "iXsUBHW9JZx2"
      },
      "source": [
        "#Data Load & Description"
      ]
    },
    {
      "cell_type": "code",
      "execution_count": 2,
      "metadata": {
        "colab": {
          "base_uri": "https://localhost:8080/"
        },
        "id": "lo5yE3R-H0i5",
        "outputId": "6d08850e-43e5-4f47-9eeb-d26645dee8a5"
      },
      "outputs": [
        {
          "name": "stdout",
          "output_type": "stream",
          "text": [
            "Data shape:  (20640, 8)\n",
            "Target shape:  (20640,)\n"
          ]
        }
      ],
      "source": [
        "from sklearn.datasets import fetch_california_housing\n",
        "\n",
        "california = fetch_california_housing()\n",
        "\n",
        "# california 객체는 dictionary와 유사하게 동작함\n",
        "# 데이터는 'data' 키에, 타겟(주택 가격)은 'target' 키에 저장되어 있음\n",
        "X, y = california.data, california.target\n",
        "\n",
        "# 데이터 형태 확인\n",
        "print(\"Data shape: \", X.shape)  # 캘리포니아 데이터셋은 20640개의 샘플과 8개의 피처로 이루어짐\n",
        "print(\"Target shape: \", y.shape)  # 타겟은 20640개의 주택 가격"
      ]
    },
    {
      "cell_type": "code",
      "execution_count": 3,
      "metadata": {
        "colab": {
          "base_uri": "https://localhost:8080/"
        },
        "id": "bwgjItdSNGq1",
        "outputId": "453ad9f2-d33b-4a62-b0ce-87c67ad65473"
      },
      "outputs": [
        {
          "name": "stdout",
          "output_type": "stream",
          "text": [
            ".. _california_housing_dataset:\n",
            "\n",
            "California Housing dataset\n",
            "--------------------------\n",
            "\n",
            "**Data Set Characteristics:**\n",
            "\n",
            "    :Number of Instances: 20640\n",
            "\n",
            "    :Number of Attributes: 8 numeric, predictive attributes and the target\n",
            "\n",
            "    :Attribute Information:\n",
            "        - MedInc        median income in block group\n",
            "        - HouseAge      median house age in block group\n",
            "        - AveRooms      average number of rooms per household\n",
            "        - AveBedrms     average number of bedrooms per household\n",
            "        - Population    block group population\n",
            "        - AveOccup      average number of household members\n",
            "        - Latitude      block group latitude\n",
            "        - Longitude     block group longitude\n",
            "\n",
            "    :Missing Attribute Values: None\n",
            "\n",
            "This dataset was obtained from the StatLib repository.\n",
            "https://www.dcc.fc.up.pt/~ltorgo/Regression/cal_housing.html\n",
            "\n",
            "The target variable is the median house value for California districts,\n",
            "expressed in hundreds of thousands of dollars ($100,000).\n",
            "\n",
            "This dataset was derived from the 1990 U.S. census, using one row per census\n",
            "block group. A block group is the smallest geographical unit for which the U.S.\n",
            "Census Bureau publishes sample data (a block group typically has a population\n",
            "of 600 to 3,000 people).\n",
            "\n",
            "A household is a group of people residing within a home. Since the average\n",
            "number of rooms and bedrooms in this dataset are provided per household, these\n",
            "columns may take surprisingly large values for block groups with few households\n",
            "and many empty houses, such as vacation resorts.\n",
            "\n",
            "It can be downloaded/loaded using the\n",
            ":func:`sklearn.datasets.fetch_california_housing` function.\n",
            "\n",
            ".. topic:: References\n",
            "\n",
            "    - Pace, R. Kelley and Ronald Barry, Sparse Spatial Autoregressions,\n",
            "      Statistics and Probability Letters, 33 (1997) 291-297\n",
            "\n"
          ]
        }
      ],
      "source": [
        "from sklearn.datasets import fetch_california_housing\n",
        "\n",
        "# 데이터 로드\n",
        "california = fetch_california_housing()\n",
        "\n",
        "# 데이터셋 설명 출력\n",
        "print(california['DESCR'])"
      ]
    },
    {
      "cell_type": "markdown",
      "metadata": {
        "id": "CFILytczLV0M"
      },
      "source": [
        "# Regression Models"
      ]
    },
    {
      "cell_type": "markdown",
      "metadata": {
        "id": "WPscXYdRLaba"
      },
      "source": [
        "## 모델 학습 및 성능 평가"
      ]
    },
    {
      "cell_type": "markdown",
      "metadata": {
        "id": "iOgXKzWbMdNk"
      },
      "source": [
        "###선형 모델"
      ]
    },
    {
      "cell_type": "code",
      "execution_count": 4,
      "metadata": {
        "colab": {
          "base_uri": "https://localhost:8080/"
        },
        "id": "JG7CbIGLJf50",
        "outputId": "eb31a4fa-be64-4d15-c067-e1a2d9c2fb61"
      },
      "outputs": [
        {
          "name": "stdout",
          "output_type": "stream",
          "text": [
            "LinearRegression MSE: 0.555891598695242\n",
            "Ridge MSE: 0.5558827543113779\n",
            "Lasso MSE: 0.5444491581246518\n"
          ]
        }
      ],
      "source": [
        "from sklearn.datasets import fetch_california_housing\n",
        "from sklearn.model_selection import train_test_split\n",
        "from sklearn.linear_model import LinearRegression, Ridge, Lasso\n",
        "from sklearn.metrics import mean_squared_error\n",
        "\n",
        "# 데이터 로드\n",
        "california = fetch_california_housing()\n",
        "X, y = california.data, california.target\n",
        "\n",
        "# 데이터 분리\n",
        "X_train, X_test, y_train, y_test = train_test_split(X, y, test_size=0.2, random_state=42)\n",
        "\n",
        "# 모델 로드\n",
        "lin_reg = LinearRegression()\n",
        "ridge_reg = Ridge(alpha=0.1) #alpha는 계수에 대한 규제 정도를 나타냄. 값이 높을수록 규제 정도가 커짐.\n",
        "lasso_reg = Lasso(alpha=0.01) #alpha는 계수에 대한 규제 정도를 나타냄. 값이 높을수록 규제 정도가 커짐.\n",
        "\n",
        "# 모델 학습\n",
        "lin_reg.fit(X_train, y_train)\n",
        "ridge_reg.fit(X_train, y_train)\n",
        "lasso_reg.fit(X_train, y_train)\n",
        "\n",
        "# 예측 및 성능 평가\n",
        "for model in [lin_reg, ridge_reg, lasso_reg]:\n",
        "    y_pred = model.predict(X_test)\n",
        "    mse = mean_squared_error(y_test, y_pred)\n",
        "    print(f\"{model.__class__.__name__} MSE: {mse}\")\n"
      ]
    },
    {
      "cell_type": "markdown",
      "metadata": {
        "id": "H9NWQFLAMhzY"
      },
      "source": [
        "### 비선형 모델"
      ]
    },
    {
      "cell_type": "code",
      "execution_count": 5,
      "metadata": {
        "colab": {
          "base_uri": "https://localhost:8080/"
        },
        "id": "8AvGoEgWMKhb",
        "outputId": "c2d7771e-ee6b-4abc-e298-25be4e70ac5d"
      },
      "outputs": [
        {
          "name": "stdout",
          "output_type": "stream",
          "text": [
            "[LightGBM] [Warning] Auto-choosing col-wise multi-threading, the overhead of testing was 0.000783 seconds.\n",
            "You can set `force_col_wise=true` to remove the overhead.\n",
            "[LightGBM] [Info] Total Bins 1838\n",
            "[LightGBM] [Info] Number of data points in the train set: 16512, number of used features: 8\n",
            "[LightGBM] [Info] Start training from score 2.071947\n",
            "GradientBoostingRegressor MSE: 0.2940787695751335\n",
            "XGBRegressor MSE: 0.22458289556216388\n",
            "LGBMRegressor MSE: 0.21484820209255617\n"
          ]
        }
      ],
      "source": [
        "from sklearn.datasets import fetch_california_housing\n",
        "from sklearn.model_selection import train_test_split\n",
        "from sklearn.metrics import mean_squared_error\n",
        "from sklearn.ensemble import GradientBoostingRegressor\n",
        "from xgboost import XGBRegressor\n",
        "from lightgbm import LGBMRegressor\n",
        "\n",
        "# 데이터 로드\n",
        "california = fetch_california_housing()\n",
        "X, y = california.data, california.target\n",
        "\n",
        "# 데이터 분리\n",
        "X_train, X_test, y_train, y_test = train_test_split(X, y, test_size=0.2, random_state=42)\n",
        "\n",
        "# 모델 정의\n",
        "gb_reg = GradientBoostingRegressor()\n",
        "xgb_reg = XGBRegressor()\n",
        "lgb_reg = LGBMRegressor()\n",
        "\n",
        "# 모델 학습\n",
        "gb_reg.fit(X_train, y_train)\n",
        "xgb_reg.fit(X_train, y_train)\n",
        "lgb_reg.fit(X_train, y_train)\n",
        "\n",
        "# 예측 및 성능 평가\n",
        "for model in [gb_reg, xgb_reg, lgb_reg]:\n",
        "    y_pred = model.predict(X_test)\n",
        "    mse = mean_squared_error(y_test, y_pred)\n",
        "    print(f\"{model.__class__.__name__} MSE: {mse}\")\n"
      ]
    },
    {
      "cell_type": "markdown",
      "metadata": {
        "id": "skmJf6oXPLFE"
      },
      "source": [
        "## 모델 해석"
      ]
    },
    {
      "cell_type": "markdown",
      "metadata": {
        "id": "4rMuu7mQ9feX"
      },
      "source": [
        "### 비선형 모델"
      ]
    },
    {
      "cell_type": "code",
      "execution_count": 18,
      "metadata": {
        "colab": {
          "base_uri": "https://localhost:8080/",
          "height": 487
        },
        "id": "d_uZkIcQPvGn",
        "outputId": "1fc4d3f8-0d34-408d-a6eb-191382092b89"
      },
      "outputs": [
        {
          "data": {
            "image/png": "[encoded data removed]",
            "text/plain": [
              "<Figure size 640x480 with 3 Axes>"
            ]
          },
          "metadata": {},
          "output_type": "display_data"
        }
      ],
      "source": [
        "import matplotlib.pyplot as plt\n",
        "import numpy as np\n",
        "\n",
        "# Gradient Boosting\n",
        "feature_importance = gb_reg.feature_importances_\n",
        "sorted_idx = np.argsort(feature_importance)\n",
        "pos = np.arange(sorted_idx.shape[0]) + 2\n",
        "plt.subplot(1, 3, 1)\n",
        "plt.barh(pos, feature_importance[sorted_idx], align='center')\n",
        "plt.yticks(pos, np.array(california.feature_names)[sorted_idx])\n",
        "plt.title('Feature Importance (GBM)')\n",
        "\n",
        "# XGBoost\n",
        "feature_importance = xgb_reg.feature_importances_\n",
        "sorted_idx = np.argsort(feature_importance)\n",
        "pos = np.arange(sorted_idx.shape[0]) + 2\n",
        "plt.subplot(1, 3, 2)\n",
        "plt.barh(pos, feature_importance[sorted_idx], align='center')\n",
        "plt.yticks(pos, np.array(california.feature_names)[sorted_idx])\n",
        "plt.title('Feature Importance (XGB)')\n",
        "\n",
        "# LightGBM\n",
        "feature_importance = lgb_reg.feature_importances_\n",
        "sorted_idx = np.argsort(feature_importance)\n",
        "pos = np.arange(sorted_idx.shape[0]) + 2\n",
        "plt.subplot(1, 3, 3)\n",
        "plt.barh(pos, feature_importance[sorted_idx], align='center')\n",
        "plt.yticks(pos, np.array(california.feature_names)[sorted_idx])\n",
        "plt.title('Feature Importance (LGBM)')\n",
        "\n",
        "plt.tight_layout()\n",
        "plt.subplots_adjust(wspace=3)  # 그림 간의 가로 간격 조정\n",
        "plt.show()"
      ]
    },
    {
      "cell_type": "markdown",
      "metadata": {
        "id": "wbbE2hk1PV25"
      },
      "source": [
        "### 선형 모델"
      ]
    },
    {
      "cell_type": "code",
      "execution_count": 20,
      "metadata": {
        "colab": {
          "base_uri": "https://localhost:8080/"
        },
        "id": "ebBTBHYYOAz4",
        "outputId": "2b651175-93c6-4b41-fe58-1ffc60799541"
      },
      "outputs": [
        {
          "name": "stdout",
          "output_type": "stream",
          "text": [
            "                            OLS Regression Results                            \n",
            "==============================================================================\n",
            "Dep. Variable:                  Price   R-squared:                       0.613\n",
            "Model:                            OLS   Adj. R-squared:                  0.612\n",
            "Method:                 Least Squares   F-statistic:                     3261.\n",
            "Date:                Sun, 16 Jul 2023   Prob (F-statistic):               0.00\n",
            "Time:                        22:11:36   Log-Likelihood:                -17998.\n",
            "No. Observations:               16512   AIC:                         3.601e+04\n",
            "Df Residuals:                   16503   BIC:                         3.608e+04\n",
            "Df Model:                           8                                         \n",
            "Covariance Type:            nonrobust                                         \n",
            "==============================================================================\n",
            "                 coef    std err          t      P>|t|      [0.025      0.975]\n",
            "------------------------------------------------------------------------------\n",
            "const        -37.0233      0.728    -50.835      0.000     -38.451     -35.596\n",
            "MedInc         0.4487      0.005     95.697      0.000       0.439       0.458\n",
            "HouseAge       0.0097      0.000     19.665      0.000       0.009       0.011\n",
            "AveRooms      -0.1233      0.007    -18.677      0.000      -0.136      -0.110\n",
            "AveBedrms      0.7831      0.033     23.556      0.000       0.718       0.848\n",
            "Population  -2.03e-06   5.25e-06     -0.387      0.699   -1.23e-05    8.26e-06\n",
            "AveOccup      -0.0035      0.000     -7.253      0.000      -0.004      -0.003\n",
            "Latitude      -0.4198      0.008    -52.767      0.000      -0.435      -0.404\n",
            "Longitude     -0.4337      0.008    -52.117      0.000      -0.450      -0.417\n",
            "==============================================================================\n",
            "Omnibus:                     3333.187   Durbin-Watson:                   1.962\n",
            "Prob(Omnibus):                  0.000   Jarque-Bera (JB):             9371.466\n",
            "Skew:                           1.071   Prob(JB):                         0.00\n",
            "Kurtosis:                       6.006   Cond. No.                     2.38e+05\n",
            "==============================================================================\n",
            "\n",
            "Notes:\n",
            "[1] Standard Errors assume that the covariance matrix of the errors is correctly specified.\n",
            "[2] The condition number is large, 2.38e+05. This might indicate that there are\n",
            "strong multicollinearity or other numerical problems.\n"
          ]
        }
      ],
      "source": [
        "import pandas as pd\n",
        "import statsmodels.api as sm\n",
        "\n",
        "# 데이터 로드\n",
        "data = fetch_california_housing()\n",
        "X, y = data.data, data.target\n",
        "\n",
        "# 데이터를 pandas DataFrame으로 변환\n",
        "X_df = pd.DataFrame(X, columns=data.feature_names)\n",
        "y_df = pd.DataFrame(y, columns=['Price'])\n",
        "\n",
        "# 데이터 분할\n",
        "X_train, X_test, y_train, y_test = train_test_split(X_df, y_df, test_size=0.2, random_state=42)\n",
        "\n",
        "# statsmodels는 절편(intercept)를 자동으로 추가하지 않으므로 수동으로 추가\n",
        "X_train_with_intercept = sm.add_constant(X_train)\n",
        "X_test_with_intercept = sm.add_constant(X_test)\n",
        "\n",
        "# 모델 생성 및 학습\n",
        "model = sm.OLS(y_train, X_train_with_intercept)\n",
        "results = model.fit()\n",
        "\n",
        "# 모델 요약 결과 출력\n",
        "print(results.summary())"
      ]
    },
    {
      "cell_type": "markdown",
      "metadata": {
        "id": "pYhOyQCbABSG"
      },
      "source": [
        "# 회귀 모델을 위한 데이터 처리"
      ]
    },
    {
      "cell_type": "markdown",
      "metadata": {
        "id": "gLQrFhu-APqo"
      },
      "source": [
        "## Log Transformation"
      ]
    },
    {
      "cell_type": "code",
      "execution_count": 21,
      "metadata": {
        "colab": {
          "base_uri": "https://localhost:8080/",
          "height": 487
        },
        "id": "9Bvkgnef96N7",
        "outputId": "413ce41f-c428-4159-b48b-9132164afac1"
      },
      "outputs": [
        {
          "data": {
            "image/png": "[encoded data removed]",
            "text/plain": [
              "<Figure size 640x480 with 9 Axes>"
            ]
          },
          "metadata": {},
          "output_type": "display_data"
        }
      ],
      "source": [
        "plt.subplot(3, 3, 1)\n",
        "plt.hist(X_df['MedInc'])\n",
        "plt.title('MedInc')\n",
        "\n",
        "plt.subplot(3, 3, 2)\n",
        "plt.hist(X_df['HouseAge'])\n",
        "plt.title('HouseAge')\n",
        "\n",
        "plt.subplot(3, 3, 3)\n",
        "plt.hist(X_df['AveRooms'])\n",
        "plt.title('AveRooms')\n",
        "\n",
        "plt.subplot(3, 3, 4)\n",
        "plt.hist(X_df['AveBedrms'])\n",
        "plt.title('AveBedrms')\n",
        "\n",
        "plt.subplot(3, 3, 5)\n",
        "plt.hist(X_df['Population'])\n",
        "plt.title('Population')\n",
        "\n",
        "plt.subplot(3, 3, 6)\n",
        "plt.hist(X_df['AveOccup'])\n",
        "plt.title('AveOccup')\n",
        "\n",
        "plt.subplot(3, 3, 7)\n",
        "plt.hist(X_df['Latitude'])\n",
        "plt.title('Latitude')\n",
        "\n",
        "plt.subplot(3, 3, 8)\n",
        "plt.hist(X_df['Longitude'])\n",
        "plt.title('Longitude')\n",
        "\n",
        "plt.subplot(3, 3, 9)\n",
        "plt.hist(y_df['Price'])\n",
        "plt.title('Price')\n",
        "\n",
        "plt.tight_layout()\n",
        "plt.show()"
      ]
    },
    {
      "cell_type": "code",
      "execution_count": 9,
      "metadata": {
        "colab": {
          "base_uri": "https://localhost:8080/",
          "height": 487
        },
        "id": "6eugV68uBet3",
        "outputId": "5f398930-1512-4536-8e1f-54fedd7b7f98"
      },
      "outputs": [
        {
          "data": {
            "image/png": "[encoded data removed]",
            "text/plain": [
              "<Figure size 640x480 with 6 Axes>"
            ]
          },
          "metadata": {},
          "output_type": "display_data"
        }
      ],
      "source": [
        "X_df['MedInc_Log'] = np.log(X_df['MedInc'])\n",
        "X_df['AveRooms_Log'] = np.log(X_df['AveRooms'])\n",
        "X_df['AveBedrms_Log'] = np.log(X_df['AveBedrms'])\n",
        "X_df['Population_Log'] = np.log(X_df['Population'])\n",
        "X_df['AveOccup_Log'] = np.log(X_df['AveOccup'])\n",
        "y_df['Price_Log'] = np.log(y_df['Price'])\n",
        "\n",
        "plt.subplot(3, 2, 1)\n",
        "plt.hist(X_df['MedInc_Log'])\n",
        "plt.title('MedInc_Log')\n",
        "\n",
        "plt.subplot(3, 2, 2)\n",
        "plt.hist(X_df['AveRooms_Log'])\n",
        "plt.title('AveRooms_Log')\n",
        "\n",
        "plt.subplot(3, 2, 3)\n",
        "plt.hist(X_df['AveBedrms_Log'])\n",
        "plt.title('AveBedrms_Log')\n",
        "\n",
        "plt.subplot(3, 2, 4)\n",
        "plt.hist(X_df['Population_Log'])\n",
        "plt.title('Population_Log')\n",
        "\n",
        "plt.subplot(3, 2, 5)\n",
        "plt.hist(X_df['AveOccup_Log'])\n",
        "plt.title('AveOccup_Log')\n",
        "\n",
        "plt.subplot(3, 2, 6)\n",
        "plt.hist(y_df['Price_Log'])\n",
        "plt.title('Price_Log')\n",
        "\n",
        "plt.tight_layout()\n",
        "plt.show()"
      ]
    },
    {
      "cell_type": "code",
      "execution_count": 10,
      "metadata": {
        "colab": {
          "base_uri": "https://localhost:8080/"
        },
        "id": "jmXgKVGKDFFQ",
        "outputId": "0337f80f-517c-4d81-c39f-cbbc07e6235f"
      },
      "outputs": [
        {
          "name": "stdout",
          "output_type": "stream",
          "text": [
            "                            OLS Regression Results                            \n",
            "==============================================================================\n",
            "Dep. Variable:              Price_Log   R-squared:                       0.676\n",
            "Model:                            OLS   Adj. R-squared:                  0.676\n",
            "Method:                 Least Squares   F-statistic:                     4307.\n",
            "Date:                Sun, 16 Jul 2023   Prob (F-statistic):               0.00\n",
            "Time:                        22:07:31   Log-Likelihood:                -4809.6\n",
            "No. Observations:               16512   AIC:                             9637.\n",
            "Df Residuals:                   16503   BIC:                             9707.\n",
            "Df Model:                           8                                         \n",
            "Covariance Type:            nonrobust                                         \n",
            "==================================================================================\n",
            "                     coef    std err          t      P>|t|      [0.025      0.975]\n",
            "----------------------------------------------------------------------------------\n",
            "const            -21.1159      0.343    -61.571      0.000     -21.788     -20.444\n",
            "MedInc_Log         0.8290      0.009     93.482      0.000       0.812       0.846\n",
            "HouseAge           0.0036      0.000     16.084      0.000       0.003       0.004\n",
            "AveRooms_Log      -0.3057      0.017    -18.287      0.000      -0.338      -0.273\n",
            "AveBedrms_Log      0.5434      0.022     25.141      0.000       0.501       0.586\n",
            "Population_Log     0.0201      0.004      5.413      0.000       0.013       0.027\n",
            "AveOccup_Log      -0.4005      0.010    -41.205      0.000      -0.420      -0.381\n",
            "Latitude          -0.2616      0.004    -70.204      0.000      -0.269      -0.254\n",
            "Longitude         -0.2560      0.004    -66.234      0.000      -0.264      -0.248\n",
            "==============================================================================\n",
            "Omnibus:                     1427.597   Durbin-Watson:                   1.986\n",
            "Prob(Omnibus):                  0.000   Jarque-Bera (JB):             7138.726\n",
            "Skew:                           0.271   Prob(JB):                         0.00\n",
            "Kurtosis:                       6.175   Cond. No.                     1.75e+04\n",
            "==============================================================================\n",
            "\n",
            "Notes:\n",
            "[1] Standard Errors assume that the covariance matrix of the errors is correctly specified.\n",
            "[2] The condition number is large, 1.75e+04. This might indicate that there are\n",
            "strong multicollinearity or other numerical problems.\n"
          ]
        }
      ],
      "source": [
        "import pandas as pd\n",
        "import statsmodels.api as sm\n",
        "\n",
        "# 데이터 추출\n",
        "X_df_log = X_df[['MedInc_Log', 'HouseAge', 'AveRooms_Log', 'AveBedrms_Log', 'Population_Log', 'AveOccup_Log', 'Latitude', 'Longitude']]\n",
        "y_df_log = y_df[['Price_Log']]\n",
        "\n",
        "# 데이터 분할\n",
        "X_train, X_test, y_train, y_test = train_test_split(X_df_log, y_df_log, test_size=0.2, random_state=42)\n",
        "\n",
        "# statsmodels는 절편(intercept)를 자동으로 추가하지 않으므로 수동으로 추가\n",
        "X_train_with_intercept = sm.add_constant(X_train)\n",
        "X_test_with_intercept = sm.add_constant(X_test)\n",
        "\n",
        "# 모델 생성 및 학습\n",
        "model = sm.OLS(y_train, X_train_with_intercept)\n",
        "results = model.fit()\n",
        "\n",
        "# 모델 요약 결과 출력\n",
        "print(results.summary())"
      ]
    },
    {
      "cell_type": "code",
      "execution_count": 11,
      "metadata": {
        "colab": {
          "base_uri": "https://localhost:8080/"
        },
        "id": "R9gukTtgFI1E",
        "outputId": "aff86c26-3b12-483e-aaf1-d4d7ad9a6df9"
      },
      "outputs": [
        {
          "name": "stdout",
          "output_type": "stream",
          "text": [
            "LinearRegression MSE: 0.11009124616206975\n",
            "Ridge MSE: 0.11009018491658577\n",
            "Lasso MSE: 0.11537584733200193\n"
          ]
        }
      ],
      "source": [
        "# 모델 로드\n",
        "lin_reg = LinearRegression()\n",
        "ridge_reg = Ridge(alpha=0.1) #alpha는 계수에 대한 규제 정도를 나타냄. 값이 높을수록 규제 정도가 커짐.\n",
        "lasso_reg = Lasso(alpha=0.01) #alpha는 계수에 대한 규제 정도를 나타냄. 값이 높을수록 규제 정도가 커짐.\n",
        "\n",
        "# 모델 학습\n",
        "lin_reg.fit(X_train, y_train)\n",
        "ridge_reg.fit(X_train, y_train)\n",
        "lasso_reg.fit(X_train, y_train)\n",
        "\n",
        "# 예측 및 성능 평가\n",
        "for model in [lin_reg, ridge_reg, lasso_reg]:\n",
        "    y_pred = model.predict(X_test)\n",
        "    mse = mean_squared_error(y_test, y_pred)\n",
        "    print(f\"{model.__class__.__name__} MSE: {mse}\")"
      ]
    },
    {
      "cell_type": "code",
      "execution_count": 12,
      "metadata": {
        "colab": {
          "base_uri": "https://localhost:8080/"
        },
        "id": "3BGKVlgvEwIf",
        "outputId": "40e8c070-db8e-4a00-e0cf-2977e622a980"
      },
      "outputs": [
        {
          "name": "stderr",
          "output_type": "stream",
          "text": [
            "/Users/yeonwookim/Library/Python/3.9/lib/python/site-packages/sklearn/ensemble/_gb.py:424: DataConversionWarning: A column-vector y was passed when a 1d array was expected. Please change the shape of y to (n_samples, ), for example using ravel().\n",
            "  y = column_or_1d(y, warn=True)\n"
          ]
        },
        {
          "name": "stdout",
          "output_type": "stream",
          "text": [
            "[LightGBM] [Warning] Auto-choosing col-wise multi-threading, the overhead of testing was 0.000869 seconds.\n",
            "You can set `force_col_wise=true` to remove the overhead.\n",
            "[LightGBM] [Info] Total Bins 1838\n",
            "[LightGBM] [Info] Number of data points in the train set: 16512, number of used features: 8\n",
            "[LightGBM] [Info] Start training from score 0.573569\n",
            "GradientBoostingRegressor MSE: 0.06741800330591509\n",
            "XGBRegressor MSE: 0.052175431841092135\n",
            "LGBMRegressor MSE: 0.0521780157733372\n"
          ]
        }
      ],
      "source": [
        "# 모델 정의\n",
        "gb_reg = GradientBoostingRegressor()\n",
        "xgb_reg = XGBRegressor()\n",
        "lgb_reg = LGBMRegressor()\n",
        "\n",
        "# 모델 학습\n",
        "gb_reg.fit(X_train, y_train)\n",
        "xgb_reg.fit(X_train, y_train)\n",
        "lgb_reg.fit(X_train, y_train)\n",
        "\n",
        "# 예측 및 성능 평가\n",
        "for model in [gb_reg, xgb_reg, lgb_reg]:\n",
        "    y_pred = model.predict(X_test)\n",
        "    mse = mean_squared_error(y_test, y_pred)\n",
        "    print(f\"{model.__class__.__name__} MSE: {mse}\")"
      ]
    },
    {
      "cell_type": "markdown",
      "metadata": {
        "id": "uwvZ_0IKxC-e"
      },
      "source": [
        "## Mean Centering"
      ]
    },
    {
      "cell_type": "code",
      "execution_count": 13,
      "metadata": {
        "id": "_0VBd5sKxTA0"
      },
      "outputs": [],
      "source": [
        "X_df_original = X_df.iloc[:, :8]"
      ]
    },
    {
      "cell_type": "code",
      "execution_count": 14,
      "metadata": {
        "id": "6jGf_Lkb0qjK"
      },
      "outputs": [],
      "source": [
        "#오류 메시지를 없애주는 코드\n",
        "pd.options.mode.chained_assignment = None"
      ]
    },
    {
      "cell_type": "code",
      "execution_count": 15,
      "metadata": {
        "id": "qQSK2YOgyP6w"
      },
      "outputs": [],
      "source": [
        "X_df_original['Medinc_0'] = X_df_original['MedInc'] - X_df_original['MedInc'].mean()\n",
        "X_df_original['HouseAge_0'] = X_df_original['HouseAge'] - X_df_original['HouseAge'].mean()\n",
        "X_df_original['AveRooms_0'] = X_df_original['AveRooms'] - X_df_original['AveRooms'].mean()\n",
        "X_df_original['AveBedrms_0'] = X_df_original['AveBedrms'] - X_df_original['AveBedrms'].mean()\n",
        "X_df_original['Population_0'] = X_df_original['Population'] - X_df_original['Population'].mean()\n",
        "X_df_original['AveOccup_0'] = X_df_original['AveOccup'] - X_df_original['AveOccup'].mean()\n",
        "X_df_original['Latitude_0'] = X_df_original['Latitude'] - X_df_original['Latitude'].mean()\n",
        "X_df_original['Longitude_0'] = X_df_original['Longitude'] - X_df_original['Longitude'].mean()"
      ]
    },
    {
      "cell_type": "code",
      "execution_count": 16,
      "metadata": {
        "colab": {
          "base_uri": "https://localhost:8080/"
        },
        "id": "peYbFFn803I8",
        "outputId": "faeee6f9-c444-483f-8b82-3d28f4f428e4"
      },
      "outputs": [
        {
          "name": "stdout",
          "output_type": "stream",
          "text": [
            "                            OLS Regression Results                            \n",
            "==============================================================================\n",
            "Dep. Variable:                  Price   R-squared:                       0.613\n",
            "Model:                            OLS   Adj. R-squared:                  0.612\n",
            "Method:                 Least Squares   F-statistic:                     3261.\n",
            "Date:                Sun, 16 Jul 2023   Prob (F-statistic):               0.00\n",
            "Time:                        22:07:36   Log-Likelihood:                -17998.\n",
            "No. Observations:               16512   AIC:                         3.601e+04\n",
            "Df Residuals:                   16503   BIC:                         3.608e+04\n",
            "Df Model:                           8                                         \n",
            "Covariance Type:            nonrobust                                         \n",
            "================================================================================\n",
            "                   coef    std err          t      P>|t|      [0.025      0.975]\n",
            "--------------------------------------------------------------------------------\n",
            "const            2.0679      0.006    369.104      0.000       2.057       2.079\n",
            "Medinc_0         0.4487      0.005     95.697      0.000       0.439       0.458\n",
            "HouseAge_0       0.0097      0.000     19.665      0.000       0.009       0.011\n",
            "AveRooms_0      -0.1233      0.007    -18.677      0.000      -0.136      -0.110\n",
            "AveBedrms_0      0.7831      0.033     23.556      0.000       0.718       0.848\n",
            "Population_0  -2.03e-06   5.25e-06     -0.387      0.699   -1.23e-05    8.26e-06\n",
            "AveOccup_0      -0.0035      0.000     -7.253      0.000      -0.004      -0.003\n",
            "Latitude_0      -0.4198      0.008    -52.767      0.000      -0.435      -0.404\n",
            "Longitude_0     -0.4337      0.008    -52.117      0.000      -0.450      -0.417\n",
            "==============================================================================\n",
            "Omnibus:                     3333.187   Durbin-Watson:                   1.962\n",
            "Prob(Omnibus):                  0.000   Jarque-Bera (JB):             9371.466\n",
            "Skew:                           1.071   Prob(JB):                         0.00\n",
            "Kurtosis:                       6.006   Cond. No.                     6.91e+03\n",
            "==============================================================================\n",
            "\n",
            "Notes:\n",
            "[1] Standard Errors assume that the covariance matrix of the errors is correctly specified.\n",
            "[2] The condition number is large, 6.91e+03. This might indicate that there are\n",
            "strong multicollinearity or other numerical problems.\n"
          ]
        }
      ],
      "source": [
        "import pandas as pd\n",
        "import statsmodels.api as sm\n",
        "\n",
        "# 데이터 추출\n",
        "X_df_mean_centered = X_df_original[['Medinc_0', 'HouseAge_0', 'AveRooms_0', 'AveBedrms_0', 'Population_0', 'AveOccup_0', 'Latitude_0', 'Longitude_0']]\n",
        "y_df = y_df[['Price']]\n",
        "\n",
        "# 데이터 분할\n",
        "X_train, X_test, y_train, y_test = train_test_split(X_df_mean_centered, y_df, test_size=0.2, random_state=42)\n",
        "\n",
        "# statsmodels는 절편(intercept)를 자동으로 추가하지 않으므로 수동으로 추가\n",
        "X_train_with_intercept = sm.add_constant(X_train)\n",
        "X_test_with_intercept = sm.add_constant(X_test)\n",
        "\n",
        "# 모델 생성 및 학습\n",
        "model = sm.OLS(y_train, X_train_with_intercept)\n",
        "results = model.fit()\n",
        "\n",
        "# 모델 요약 결과 출력\n",
        "print(results.summary())"
      ]
    },
    {
      "cell_type": "code",
      "execution_count": 17,
      "metadata": {
        "colab": {
          "base_uri": "https://localhost:8080/"
        },
        "id": "cLgW_CAk2ekY",
        "outputId": "f974c413-649c-44a0-ee1f-14681d473234"
      },
      "outputs": [
        {
          "name": "stdout",
          "output_type": "stream",
          "text": [
            "                            OLS Regression Results                            \n",
            "==============================================================================\n",
            "Dep. Variable:                  Price   R-squared:                       0.613\n",
            "Model:                            OLS   Adj. R-squared:                  0.612\n",
            "Method:                 Least Squares   F-statistic:                     3261.\n",
            "Date:                Sun, 16 Jul 2023   Prob (F-statistic):               0.00\n",
            "Time:                        22:07:36   Log-Likelihood:                -17998.\n",
            "No. Observations:               16512   AIC:                         3.601e+04\n",
            "Df Residuals:                   16503   BIC:                         3.608e+04\n",
            "Df Model:                           8                                         \n",
            "Covariance Type:            nonrobust                                         \n",
            "==============================================================================\n",
            "                 coef    std err          t      P>|t|      [0.025      0.975]\n",
            "------------------------------------------------------------------------------\n",
            "const        -37.0233      0.728    -50.835      0.000     -38.451     -35.596\n",
            "MedInc         0.4487      0.005     95.697      0.000       0.439       0.458\n",
            "HouseAge       0.0097      0.000     19.665      0.000       0.009       0.011\n",
            "AveRooms      -0.1233      0.007    -18.677      0.000      -0.136      -0.110\n",
            "AveBedrms      0.7831      0.033     23.556      0.000       0.718       0.848\n",
            "Population  -2.03e-06   5.25e-06     -0.387      0.699   -1.23e-05    8.26e-06\n",
            "AveOccup      -0.0035      0.000     -7.253      0.000      -0.004      -0.003\n",
            "Latitude      -0.4198      0.008    -52.767      0.000      -0.435      -0.404\n",
            "Longitude     -0.4337      0.008    -52.117      0.000      -0.450      -0.417\n",
            "==============================================================================\n",
            "Omnibus:                     3333.187   Durbin-Watson:                   1.962\n",
            "Prob(Omnibus):                  0.000   Jarque-Bera (JB):             9371.466\n",
            "Skew:                           1.071   Prob(JB):                         0.00\n",
            "Kurtosis:                       6.006   Cond. No.                     2.38e+05\n",
            "==============================================================================\n",
            "\n",
            "Notes:\n",
            "[1] Standard Errors assume that the covariance matrix of the errors is correctly specified.\n",
            "[2] The condition number is large, 2.38e+05. This might indicate that there are\n",
            "strong multicollinearity or other numerical problems.\n"
          ]
        }
      ],
      "source": [
        "import pandas as pd\n",
        "import statsmodels.api as sm\n",
        "\n",
        "# 데이터 로드\n",
        "data = fetch_california_housing()\n",
        "X, y = data.data, data.target\n",
        "\n",
        "# 데이터를 pandas DataFrame으로 변환\n",
        "X_df = pd.DataFrame(X, columns=data.feature_names)\n",
        "y_df = pd.DataFrame(y, columns=['Price'])\n",
        "\n",
        "# 데이터 분할\n",
        "X_train, X_test, y_train, y_test = train_test_split(X_df, y_df, test_size=0.2, random_state=42)\n",
        "\n",
        "# statsmodels는 절편(intercept)를 자동으로 추가하지 않으므로 수동으로 추가\n",
        "X_train_with_intercept = sm.add_constant(X_train)\n",
        "X_test_with_intercept = sm.add_constant(X_test)\n",
        "\n",
        "# 모델 생성 및 학습\n",
        "model = sm.OLS(y_train, X_train_with_intercept)\n",
        "results = model.fit()\n",
        "\n",
        "# 모델 요약 결과 출력\n",
        "print(results.summary())"
      ]
    }
  ],
  "metadata": {
    "colab": {
      "provenance": []
    },
    "kernelspec": {
      "display_name": "Python 3",
      "name": "python3"
    },
    "language_info": {
      "codemirror_mode": {
        "name": "ipython",
        "version": 3
      },
      "file_extension": ".py",
      "mimetype": "text/x-python",
      "name": "python",
      "nbconvert_exporter": "python",
      "pygments_lexer": "ipython3",
      "version": "3.9.6"
    }
  },
  "nbformat": 4,
  "nbformat_minor": 0
}
