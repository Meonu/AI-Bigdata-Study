{
 "cells": [
  {
   "cell_type": "markdown",
   "id": "5187c4e1",
   "metadata": {},
   "source": [
    "# 라이브러리 설치"
   ]
  },
  {
   "cell_type": "code",
   "execution_count": 1,
   "id": "c2b7084e",
   "metadata": {},
   "outputs": [
    {
     "name": "stdout",
     "output_type": "stream",
     "text": [
      "Defaulting to user installation because normal site-packages is not writeable\n",
      "Collecting selenium\n",
      "  Obtaining dependency information for selenium from https://files.pythonhosted.org/packages/19/e7/6c6468d913edb3645ed4d0c0c7b3bd7a2a41e78a03e0d52696408ca08189/selenium-4.10.0-py3-none-any.whl.metadata\n",
      "  Downloading selenium-4.10.0-py3-none-any.whl.metadata (7.2 kB)\n",
      "Requirement already satisfied: urllib3[socks]<3,>=1.26 in /Users/yeonwookim/Library/Python/3.9/lib/python/site-packages (from selenium) (1.26.15)\n",
      "Collecting trio~=0.17 (from selenium)\n",
      "  Obtaining dependency information for trio~=0.17 from https://files.pythonhosted.org/packages/a3/dd/b61fa61b186d3267ef3903048fbee29132963ae762fb70b08d4a3cd6f7aa/trio-0.22.2-py3-none-any.whl.metadata\n",
      "  Downloading trio-0.22.2-py3-none-any.whl.metadata (4.7 kB)\n",
      "Collecting trio-websocket~=0.9 (from selenium)\n",
      "  Obtaining dependency information for trio-websocket~=0.9 from https://files.pythonhosted.org/packages/a5/a6/06e2373f95c12e9e8f6b910a76c86e375348ead77ab476230640666310fb/trio_websocket-0.10.3-py3-none-any.whl.metadata\n",
      "  Downloading trio_websocket-0.10.3-py3-none-any.whl.metadata (4.6 kB)\n",
      "Requirement already satisfied: certifi>=2021.10.8 in /Users/yeonwookim/Library/Python/3.9/lib/python/site-packages (from selenium) (2022.12.7)\n",
      "Requirement already satisfied: attrs>=20.1.0 in /Users/yeonwookim/Library/Python/3.9/lib/python/site-packages (from trio~=0.17->selenium) (23.1.0)\n",
      "Collecting sortedcontainers (from trio~=0.17->selenium)\n",
      "  Using cached sortedcontainers-2.4.0-py2.py3-none-any.whl (29 kB)\n",
      "Requirement already satisfied: idna in /Users/yeonwookim/Library/Python/3.9/lib/python/site-packages (from trio~=0.17->selenium) (3.4)\n",
      "Collecting outcome (from trio~=0.17->selenium)\n",
      "  Downloading outcome-1.2.0-py2.py3-none-any.whl (9.7 kB)\n",
      "Collecting sniffio (from trio~=0.17->selenium)\n",
      "  Downloading sniffio-1.3.0-py3-none-any.whl (10 kB)\n",
      "Collecting exceptiongroup>=1.0.0rc9 (from trio~=0.17->selenium)\n",
      "  Obtaining dependency information for exceptiongroup>=1.0.0rc9 from https://files.pythonhosted.org/packages/fe/17/f43b7c9ccf399d72038042ee72785c305f6c6fdc6231942f8ab99d995742/exceptiongroup-1.1.2-py3-none-any.whl.metadata\n",
      "  Downloading exceptiongroup-1.1.2-py3-none-any.whl.metadata (6.1 kB)\n",
      "Collecting wsproto>=0.14 (from trio-websocket~=0.9->selenium)\n",
      "  Downloading wsproto-1.2.0-py3-none-any.whl (24 kB)\n",
      "Collecting PySocks!=1.5.7,<2.0,>=1.5.6 (from urllib3[socks]<3,>=1.26->selenium)\n",
      "  Using cached PySocks-1.7.1-py3-none-any.whl (16 kB)\n",
      "Collecting h11<1,>=0.9.0 (from wsproto>=0.14->trio-websocket~=0.9->selenium)\n",
      "  Downloading h11-0.14.0-py3-none-any.whl (58 kB)\n",
      "\u001b[2K     \u001b[90m━━━━━━━━━━━━━━━━━━━━━━━━━━━━━━━━━━━━━━━━\u001b[0m \u001b[32m58.3/58.3 kB\u001b[0m \u001b[31m4.1 MB/s\u001b[0m eta \u001b[36m0:00:00\u001b[0m\n",
      "\u001b[?25hDownloading selenium-4.10.0-py3-none-any.whl (6.7 MB)\n",
      "\u001b[2K   \u001b[90m━━━━━━━━━━━━━━━━━━━━━━━━━━━━━━━━━━━━━━━━\u001b[0m \u001b[32m6.7/6.7 MB\u001b[0m \u001b[31m23.3 MB/s\u001b[0m eta \u001b[36m0:00:00\u001b[0m00:01\u001b[0m00:01\u001b[0m\n",
      "\u001b[?25hDownloading trio-0.22.2-py3-none-any.whl (400 kB)\n",
      "\u001b[2K   \u001b[90m━━━━━━━━━━━━━━━━━━━━━━━━━━━━━━━━━━━━━━━━\u001b[0m \u001b[32m400.2/400.2 kB\u001b[0m \u001b[31m19.5 MB/s\u001b[0m eta \u001b[36m0:00:00\u001b[0m\n",
      "\u001b[?25hDownloading trio_websocket-0.10.3-py3-none-any.whl (17 kB)\n",
      "Using cached exceptiongroup-1.1.2-py3-none-any.whl (14 kB)\n",
      "Installing collected packages: sortedcontainers, sniffio, PySocks, outcome, h11, exceptiongroup, wsproto, trio, trio-websocket, selenium\n",
      "Successfully installed PySocks-1.7.1 exceptiongroup-1.1.2 h11-0.14.0 outcome-1.2.0 selenium-4.10.0 sniffio-1.3.0 sortedcontainers-2.4.0 trio-0.22.2 trio-websocket-0.10.3 wsproto-1.2.0\n"
     ]
    }
   ],
   "source": [
    "#!pip3 install selenium"
   ]
  },
  {
   "cell_type": "markdown",
   "id": "42526e7d",
   "metadata": {},
   "source": [
    "# Selenium 연습"
   ]
  },
  {
   "cell_type": "markdown",
   "id": "b363551b",
   "metadata": {},
   "source": [
    "## By.Name 구문"
   ]
  },
  {
   "cell_type": "code",
   "execution_count": 19,
   "id": "aff26984",
   "metadata": {},
   "outputs": [
    {
     "name": "stderr",
     "output_type": "stream",
     "text": [
      "Error getting version of chromedriver 115. Retrying with chromedriver 114 (attempt 1/5)\n"
     ]
    }
   ],
   "source": [
    "from selenium import webdriver\n",
    "from selenium.webdriver.common.by import By\n",
    "from selenium.webdriver.common.keys import Keys\n",
    "from selenium.webdriver.chrome.service import Service\n",
    "\n",
    "from selenium.webdriver.chrome.service import Service as ChromeService\n",
    "from webdriver_manager.chrome import ChromeDriverManager\n",
    "\n",
    "driver = webdriver.Chrome(service=ChromeService(ChromeDriverManager().install()))\n",
    "\n",
    "# ChromeDriver의 경로를 지정하고, WebDriver 인스턴스를 생성합니다.\n",
    "#driver = webdriver.Chrome('/Users/yeonwookim/chromedriver')\n",
    "\n",
    "# 지마켓의 메인 페이지를 엽니다.\n",
    "driver.get('https://www.gmarket.co.kr')\n",
    "\n",
    "# 검색어를 입력할 수 있는 input 요소를 찾습니다.\n",
    "search_box = driver.find_element(By.NAME, 'keyword')\n",
    "\n",
    "# 검색어를 입력하고, Enter 키를 눌러 검색을 실행합니다.\n",
    "search_box.send_keys('손풍기')\n",
    "search_box.send_keys(Keys.RETURN)\n",
    "\n",
    "# 작업이 끝나면 WebDriver를 종료하여 브라우저 창을 닫습니다.\n",
    "driver.quit()"
   ]
  },
  {
   "cell_type": "markdown",
   "id": "f7e91211",
   "metadata": {},
   "source": [
    "## By.CSS_SELECTOR 구문"
   ]
  },
  {
   "cell_type": "code",
   "execution_count": 20,
   "id": "d0ba22cd",
   "metadata": {},
   "outputs": [],
   "source": [
    "from selenium import webdriver\n",
    "from selenium.webdriver.common.by import By\n",
    "from selenium.webdriver.common.keys import Keys\n",
    "from selenium.webdriver.chrome.service import Service\n",
    "\n",
    "title_list = list()\n",
    "\n",
    "# ChromeDriver의 경로를 지정하고, WebDriver 인스턴스를 생성합니다.\n",
    "from selenium.webdriver.chrome.service import Service as ChromeService\n",
    "from webdriver_manager.chrome import ChromeDriverManager\n",
    "\n",
    "driver = webdriver.Chrome(service=ChromeService(ChromeDriverManager().install()))\n",
    "\n",
    "# 지마켓의 베스트 페이지를 엽니다.\n",
    "driver.get('https://www.gmarket.co.kr/n/best')\n",
    "\n",
    "# 상품명을 입력 받아 item_list 변수에 저장합니다.\n",
    "item_list = driver.find_elements(By.CSS_SELECTOR, 'a.itemname')\n",
    "\n",
    "for item in item_list:\n",
    "    title_list.append(item.text)\n",
    "\n",
    "driver.quit()"
   ]
  },
  {
   "cell_type": "code",
   "execution_count": 21,
   "id": "4704868d",
   "metadata": {},
   "outputs": [
    {
     "name": "stdout",
     "output_type": "stream",
     "text": [
      "['[올반키친]올반 찰핫도그15봉+크런치핫도그15봉(신세계푸드 중복쿠폰 할인)', '[농심]카프리썬오렌지망고 200ml 40개', '[블랙야크키즈](신세계하남점)땀과 물놀이에 최적화된 시원한 반팔세트 2종 택1 정상가 89000원 리버티5부세트 젤리5...', '쿠폰가 17430원 충주씨샵_하늘작 충주 복숭아 3kg(8~12과내)', '[물고기삼촌]양꼬치 양깍두기 양고기 1kg + 쯔란1봉', '[농심]30%쿠폰 짜왕 건면 119g 4입X4개(16개)', '[메가박스](유니버스클럽 전용) 메가박스 일반예매권 2D-주중/주말', '[지프 (의류)](롯데백화점)공용 로고 반팔티셔츠 7종 택1 (JO2TSU091 외 6종)', '[리버티]유기농 생리대 120P 7990원/사은품증정 리버티 SAP FREE 유기농 센시티브 롱라이너 20PX6팩 전라인 특가', '[동원에프앤비]라이트스탠다드 참치 85g x 14캔 +제로음료6병 랜덤증정', '[피코크]피코크 떡갈비 450gx6팩 (신세계푸드 중복 쿠폰 할인)', '[매일유업]매일 헬로엔요 플레인 200ml 48팩', '[프로스펙스][프로스펙스] 워킹/런닝/스니커즈 운동화 13종 택1 PS0US22S061', '[비비고]우리아이 한입 백김치 270g x5개', '[티젠]티젠 콤부차 30스틱X2박스 택2', '[언더아머](신세계타임스퀘어점패션관)(가방) UA 플렉스 웨이스트 백 힙색 크로스백 등산 헬스 운동 가방 1364190-002', '아삭하고 단단한 복숭아 3kg내외(12-15과)', '15% 쿠폰가 12670원 (2장세트) 쿨모달 슬립상하의세트 1+1 여름잠옷 홈웨어 파자마 실크 NO캡', '(무료/당일발송) 풍국면 들기름막국수 10인분 (1인분x10개입)', '[헤네스]((1+1)) 물놀이 야외활동 자외선차단 성인 플랩캡', '[락토핏]종근당건강 유산균 락토핏 골드 50포 3통(150일분) +골드 30포 증정', '[가나양말]무지 발목양말 12켤레 실속형 남성용 여성용 스니커즈 출시특가', '우리아이 반찬 짜지않은 메추리알 장조림 1kg x 2팩', '(놀이대전) 캐리비안베이 골드1 골드2 종일권(이용기간 상이)', '[페리오]페리오 뉴후레쉬 알파 170g 16개', '깐다슬기 200gx3(다슬기살+육수)/강원도자연산', '[농심]카프리썬 오렌지 20개+오렌지망고20개 총 40개', '[햇반]햇반 210g x24입', '(놀이대전)전국 히어로플레이파크/히어로키즈카페/경주/대구/동탄/부산/양산/의정부/청주/창원', '[Gfresh]냉동열대과일 두리안 450g/2세트이상 천원씩 할인', '[구글플레이]기프트코드 10만원 / 구글 기프트카드', '이맛쌀 20kg', '[폰타나]폰타나 크림파스타소스430g 3개 + 스파게티면', '[매일유업]어메이징 오트 언스위트 190ml 24팩 주말반짝특가', '구워먹는 찰떡 국내산100% 찰떡 700gX2팩 꿀조청증정 해썹', '[요즘에]주말특가(10%쿠폰:14.850원)쿨맥스/연청/청바지 판매1위/하비고민 덜어주는 데님/스테디치즈데님', '[CJ 비비고]구워나온 생선구이 16팩(순살 고등어 10팩+ 순살 삼치 4팩 +갈치구이 2팩)', '[어스본코리아]차이콥스키의 발레곡 호두까기 인형 사운드북 피오나 와트', '래쉬가드 5종 풀세트 체형커버 빅사이즈 수영복 비치웨어', '[디펜드]최종가17910원/디펜드 맘스 안심팬티 8매x4팩/산모전용팬티 의약외품 인증', '치실 체험팩/이편한 어린이치실 80개입 x 1팩 (3세트구매시마다 본품1개 반복증정)', '[파스퇴르]파스퇴르 무항생제 바른목장우유 190mL48팩', '단팥빵 1박스(12개)/군산맛집/오남매빵집/쿠폰가26010', '[올반키친]올반 찰핫도그 80g X 30봉 (신세계푸드 중복쿠폰 할인)', '[NII]20%쿠폰 NII 라스트찬스 BEST 특가 세일전', '[테크]테크 베이킹구연산 액체세제 일반 리필 1.8L 4개', '[메이블린]메이블린뉴욕 1+1 얼티매트 립스틱 10종 중 택(교차선택가능) (+증정)', '[롯데칠성]펩시콜라 제로 210ml x 60캔 (30캔 2박스)', '[크록스]본사공식 크록스 인기크록스 141종 택 (GC0723)', '미들 경량 논슬립 레인부츠 +휴대폰링 증정', '[아이스샌드]23일 단하루 특가 아이스샌드 래쉬가드 세트 수영복 트레이닝 세트 UV차단 스윔웨어 모음', '[오브쿡스]네이처우드 옻칠 수저세트 5인 / 나무 숟가락 젓가락', '[이마트24](클럽전용) 이마트24 1만원 금액권', '[원더브라]크로커다일 라이크라쉘론 U넥 감탄브라 스킨패키지 8종세트 CDW3M212223(2)_T', '[마음심은]소문난 배윤자 일품 포기김치 5kg 국내산100% 어디에나 잘어울리는 깔끔한 서울식 김치', '[메트로시티]22% 메트로시티 여성 7/23 1DAYS 23SS 시즌오프 추가', '[비에프엘아웃도어][버팔로] 1+1 버팔로 프리미엄 블랙라벨 구명조끼', '[스카치브라이트]걸이형 스펀지 수세미 혼합팩 12입(걸이포함)', '[웅진주니어]웅진주니어 똑똑한 유아 어휘/독해 선택구매', '[신세계푸드]크루아상 생지 크로와상 크로플 총 2250g (40~50개)/중복쿠폰 다운', '(놀이대전) 파라다이스시티 원더박스', '토니모리 수분앰플 7700원+썸머 COOL세일 UPTO 79%', '[벨롭]밸롭 아쿠아슈즈/워터슈즈/래쉬가드/수영복/비치웨어/여성/남성/아동/키즈 모음전', '[광천김]김부각 5종 세트', '첫 출하 여름의 왕 썸머킹 사과 중소과 2.5kg (12~15과)', '[서울우유]멸균우유 1000ml x 10입 (1박스)', '[Gfresh]오동통 손질 가자미 150-200g 10미 특품', '(놀이대전)한국민속촌 종일 자유이용권', '[헬로]헬로 순수 3겹 30m 30롤 3팩 천연펄프 화장지 초특가행사', '[크록스]공용 CROCBAND 7종 택1(11016)', '(놀이대전) 영등포/일산/금천 뽀로로파크 이용권 (~7/31)', '[피코크]조선호텔 포기김치 8kg(신세계푸드 중복쿠폰 할인)', '[포스트]포스트 골든그래놀라 아몬드빈 360gx3 +밀폐용기증정', '시즌오프가 1+1 남여공용 비침없는 면 프린팅 티셔츠 장당 3750원 딱 오늘만 가능한 가격', '[아이리스코리아]아이리스 뚜껑형 단단한 팬트리 정리함 리빙박스 틈새 수납함 중형 4개 세트', '넥쿨러1+1 남여양말세트20컬레 쿨토시 20컬레9900원 팔튜브 모자 우산 1+1 티메이', '[오뚜기]오뚜기 맛있는 밥 30입(210gx10)x 3개 / 오뚜기 흰밥', '[편리안]편리안 밴드랩 35mm 180매입 10%건강 중복할인 9900원 니플밴드 모기물렸을때도 착 의약외품 국산', '[아토세이프]최종혜택가 14520원 아토세이프 귀찮아 습기제거제 520ml 24개입/제습제/장마철필수품', '[매일유업]상하목장 유기농 멸균우유 125ml x 48팩', '[어나더디](15%쿠폰가 11820원)(1+1) 더 아이 주니어 하이틴 심리스 브라탑 일체형 노와이어', '국산 10켤레 남자 여자 페이크삭스 덧신 양말', '[샘표]샘표 양조간장 701 1.7L + 701 500ml', '[농심]신라면+튀김우동+새우탕+오짬뽕 6입4개(총24개)', '(마미레시피) 마미레시피 들깨 기미미백크림 50g (2개 구매 시 골드발비누 추가 증정 )', '착한떡 제주해풍 쑥개떡 1kg+1kg 총 2kg / 개별포장 떡', '[홈트너]옷장제습제 나는제습제입니다 옷걸이형제습제 120g x20', '[코코도르]디퓨저 리필액 500ml X 2개 + 와이어병 + 스틱10P 증정', '[요즘에]파격할인(쿠폰가 16920원)여름세일 편한 쿨링스판/여름청바지 판매1위/와이드 쿨맥스라이트데님', '폴로 랄프로렌 로고 반팔 티셔츠 남녀공용 클래식핏 택 1', '[엘라스틴]엘라스틴 실크리페어 베이비파우더 샴푸 550ml 4개', '[구글플레이]기프트코드 5만원 / 구글 기프트카드', '(UNSEEN SET) SHOWNU X HYUNGWON THE 1ST MINI ALBUM THE UNSEEN', '[제주삼다수][무료배송] 제주 삼다수 그린(무라벨) 2L 24병 (유라벨/무라벨 랜덤발송)', '[매일유업]매일두유 고단백 190ml 48팩', '쉐프컬렉션 배소불고기 양념육 200g x 6팩(신세계푸드 중복쿠폰 할인)', '[아이리스코리아]아이리스 스타일 행거 옷걸이 건조대 HKM-640', '프리미엄 햇 캐슈넛 1kg 직접 볶은 구운 캐슈넛 (사은품 증정 이벤트)', '[구글플레이]기프트코드 20만원 / 구글 기프트카드', '[동원에프앤비]라이트스탠다드참치 85g x7캔 +고추참치 85g x 7캔 +제로음료6병 랜덤증정', '(스테디셀러) 파니 심플 나시티 1+1', '[농협안심한우]쿠폰23440원) 1등급 농협 안심 한우 국거리 덩어리 or 불고기 500g+500g 냉장 암소 / 2세트 주문시 무료배송', '[숨37˚](신세계강남점)[타임딜]시크릿 에센스 45ml 기획세트', '[제스프리]골드키위 슈퍼점보 스페셜선물 3.1kg 내외 박스포장 이중포장', '(사회평론) 용선생 15분 한국사/세계사 독해 시리즈 선택구매', '[공식파트너] 위닉스 뽀송 제습기 10L DXAE100-JWK', '[순수크린]순수크린 과탄산소다 5kg 버킷+스푼1개외 베이킹 모음전', '[맥심](행사상품)N 동서식품맥심모카골드믹스230T 2760G', '[구글플레이]기프트코드 3만원 / 구글 기프트카드', '비비안 블루비비 브라팬티세트 와이어 몰드 브래지어 여자 여성 속옷 DBRS2098', '[Gfresh]산과들에 간식 견과류 바사삭아몬드30낱봉 +10봉더', '최상급 프리미엄 초신선 아보카도 10입(개당180g내외)', '20% 페이지플린 여름신상 BEST 특가 모음', '[펩시]펩시콜라 제로슈거 라임 355ml 24캔 캔음료', '[폴메디슨]키즈 아토 과탄산소다 표백제 얼룩제거 + 계량스푼 1000g 1세트', '[오덕쌀]오덕쌀 친들미 10kg', '[크리넥스]크리넥스 3겹 천연펄프 순수소프트 화장지 27M-30롤x2팩', '[올바른]와이케어 프로바이오틱스 VL8 여성 질 유산균 아연 6개월분(2박스)', '뉴질랜드산 제스프리 점보 골드키위 스페셜 2.3kg (13~18입/팩)', '[써브웨이](써브웨이) 1만원권', '[스파클]스파클생수 500ml 100병 (도착보장/무라벨생수)', '[지오다노]15%쿠폰 지오다노 SS 여름 PK티셔츠/셔츠/슬랙스 외', '[나이키골프]나이키 남여공용볼캡 골프모자 4종 헤리티지86 레거시91', '기획 유명산지 부드러운 복숭아 1.8kg (박스)', '[LG생활건강]테크 클린앤리프레시 대용량 8L (일반드럼 겸용)', '[피죤]액체세제 대용량 액츠 수퍼클린 찌든때 5.7L 겸용 +증정', '[서울우유]멸균우유 200ml x 24입 (1박스)', '[농심]카프리썬오렌지 200ml 40개', '[농심]한정수량특가 올리브 짜파게티 5입X8개(40개)', '[카멜마운트]카멜마운트 이동식 모니터 티비 TV 스탠드 가정용 매장용 광고용 화이트 SMB32W', '[뱅뱅]15%쿠폰 뱅뱅 본사입점 기념 여름 남여캐주얼 핫템', '[비비고]비비고 즉석국 육개장 500g 6봉', '(VER SET) SHOWNU X HYUNGWON THE 1ST MINI ALBUM THE UNSEEN', '[아디다스]아디다스 썸머 퍼포먼스 올메쉬 드로즈 8종', '[31건어물]31건어물 참쥐포 (대) 300g (12-15장 내외/2set 구매 시 1천원 할인)', '시매쓰 영재사고력수학 1031(2023개정판) / 과학 1031 단계별 선택구매', '[반하나]반하나 75gsm 블랙은 물티슈 70매 10팩 / 75평량 엠보싱 캡형', '[올리비아로렌]올리비아로렌 10%쿠폰 실시간BEST 블라우스/원피스외', '[한예지]한예지 볼륨앤소프트 천연펄프 화장지 30롤 3팩 (가성비갑)', '[어나더디](15%쿠폰가 12670원)(4개세트) 심리스 브라탑 4color 노라인 노와이어 스포츠브라 스판소재', '[KFC](KFC) 중복기념파티팩', '[동원에프앤비]동원 라이트 스탠다드 참치 150g 원터치 10개', '[햇살드리(양곡)]수향미 골든퀸 수향미 10kg 단일품종 상등급', '[노브랜드]노브랜드 3겹 화장지 33M X 30롤 3팩', '주영엔에스 관절엔 콘드로이친 1200 900mg60캡슐1박스', '[펠틱스]펠틱스 23SS 여성 아이스 우븐 셋업 2종', '[아트델리]아트델리 갈바덤 리프팅 커버 쿠션 본품', '[올반키친]올반 슈퍼크런치 치킨텐더 440gx5팩(신세계푸드 중복쿠폰 할인)', '찬들마루 국내산 쫄깃 담백한 소문난 뽕잎 편육 200g x 3', '[웅진]빅토리아 청귤 500ml 40개', '오늘한끼 저염 명란젓갈 무색400g+양념400g 파치 반찬', '[한국교육방송공사]EBS 문해력 시리즈 - 등급평가/어휘/독해/배경지식 P단계~6학년 학년별 선택구매', '냉장 설성 무항생제 한돈 벌집 삼겹살 400g', '[모나코올리브]인스타 핫템 야광봉 댄스 야광스틱 7색 고급형 100개', '[오뚜기]진라면 매운맛 40봉', '[농심]백산수 무라벨 2L 24병 /생수전문배송', '[AHC]AHC 마스터즈 에어리치 선스틱 22g+14g /박세리선스틱 +증정', '[깨끗한나라]깨끗한나라 순수시그니처 화장지 브라운 30m 30롤 2팩', '[동원에프앤비]DHA 참치 150g 원터치 10개', '[유파]방송유파 선풍기리모컨초미풍발터치 TSK-3528CR', '[에그머니](에그머니) 온라인게임상품권 3만원', '[비오템옴므](신세계강남점)[7S] 아쿠아파워 올인원 200ml 세트 (+올인원 60ml)', '[아디다스]나이키外 인기 신상 반팔티/반바지/쇼트/운동복 모음', '[산과들에]다크초콜릿아몬드20낱봉 +10봉더', '(세번째행성) 초등생이 꼭 알아야 할 인물독해/과학용어 독해/세계명작 독해(옵션선택구매)', '[동원에프앤비]동원 자연산골뱅이 300g x 5개 +제로음료6병 랜덤증정', '[미래생활]순수PURE천연펄프 25m 30롤 x 3팩 휴지', '(놀이대전) 7개지점 타요키즈카페 이용권 (~7/31)', '상상의집 보드게임 모음전 와당탕 조선 임진왜란 독립운동 대항해 관용어', '(놀이대전) 천안 오션어드벤처 미들/하이/골드시즌 1인 종일권 (주중.주말 공통)', '홈스타 맥스프레쉬 뿌리는 곰팡이 싹 500ml X 4개 + 홈스타 바르는 곰팡이 싹 120ml', '[입큰]입큰 12.5 퍼퓸 파우더 썬팩트 (본품)+사은품증정 /SPF50+ PA+++자외선차단', '[아이러브베베]아이러브베베아기물티슈 핑크100매캡형X20팩', '1+1 늘어나는 벨트 남여공용 캐쥬얼 데일리', '[동원에프앤비]리챔 오리지널 200g 10캔', '[농심]안성탕면 125g 5입X8개(총40개)', '[아트델리]아트델리 갈바덤 리프팅 커버 쿠션 본품', '[해피바스]해피바스 바디워시900g 3종세트 유자/체리/자몽', '(행사상품)농협프리미엄예천일품쌀10KG 포', '포슬포슬 분이나는 두백감자 햇 감자 2kg(특) (쿠폰가 7020원)', '[정옥]정옥 섬진강 재첩국 300g 5팩 국내산 섬진강 재첩', '[애프터식스]1+1 시원한 여름 시어서커 베개커버 세트/워싱 피그먼트 밴딩 순면 모달 40x60 50x70 30x50 베개 베개솜', '[구글플레이]기프트코드 1만원 / 구글 기프트카드', '[요기요](요기요) 1만원권', '[프링글스]프링글스 오리지널맛 53g 1박스(12통)', '[쵱선생]이게 약과지 프리미엄 호박약과 400g x 2팩', '[베베숲]NEW 베베숲 프라임 70매 캡 20팩 단독런칭', '[올반키친]올반 볶음밥 3종 10봉(새우4+김치4+우삼겹2)(신세계푸드 중복쿠폰 할인)', '[농심]신라면+안성탕면+너구리+짜파게티 20봉', '[TS티마]여름마스크 100매 TS 레모나 위가드 스카이슘 새부리형 중형 대형 KF94 쿨마스크 모음전', '[리코셀](10%추가쿠폰)슈퍼 딥 클린 폼 클렌저 220ml 4개 병풀+약쑥+어성초 저자극 시카 약알칼리 휩 클렌징 대용량', '[포레스트핏](냉장고바지6탄) 1+1 밴딩 쿨 바스락 5부 반바지', '(VER SET / JEWEL SET) SHOWNU X HYUNGWON THE 1ST MINI ALBUM THE UNSEEN', '[매일유업]아몬드 브리즈 오리지널 190ML 48팩', '[푸름이닷컴]푸름이 까꿍 그림책 세트 (전40권) (세이펜미포함)', '[유니레버]유니레버 립톤 아이스티 복숭아맛 1.5kg 2개', '[마몽드]로즈워터토너 250ml 2개', '특가 정식 라이센스 정품 쌤소나이트 BT6 경량 백팩 캐리어 손잡이 결합가능 정품보장', '10%쿠폰 (1+1) 남녀공용 스티치 5부 트레이닝 팬츠', '창의사고력수학 팩토/소마셈 세트 단계별 선택구매 (킨더팩토/키즈팩토/LV1~6)']\n"
     ]
    }
   ],
   "source": [
    "print(title_list)"
   ]
  },
  {
   "cell_type": "markdown",
   "id": "4a3d6591",
   "metadata": {},
   "source": [
    "# selenium 실행하고 상품명, 가격, 별점 정보 저장"
   ]
  },
  {
   "cell_type": "code",
   "execution_count": 22,
   "id": "0212841f",
   "metadata": {},
   "outputs": [],
   "source": [
    "from selenium import webdriver\n",
    "from selenium.webdriver.common.by import By\n",
    "from selenium.webdriver.common.keys import Keys\n",
    "from selenium.webdriver.chrome.service import Service\n",
    "\n",
    "title_list = list()\n",
    "price_list = list()\n",
    "star_list = list()\n",
    "\n",
    "# ChromeDriver의 경로를 지정하고, WebDriver 인스턴스를 생성합니다.\n",
    "driver = webdriver.Chrome()\n",
    "\n",
    "# 지마켓의 메인 페이지를 엽니다.\n",
    "driver.get('https://www.gmarket.co.kr')\n",
    "\n",
    "# 검색어를 입력할 수 있는 input 요소를 찾습니다.\n",
    "search_box = driver.find_element(By.NAME, 'keyword')\n",
    "\n",
    "# 검색어를 입력하고, Enter 키를 눌러 검색을 실행합니다.\n",
    "search_box.send_keys('손풍기')\n",
    "search_box.send_keys(Keys.RETURN)\n",
    "\n",
    "# 결과 페이지가 로드될 때까지 잠시 기다립니다.\n",
    "driver.implicitly_wait(3)\n",
    "\n",
    "# 정보를 담은 박스를 선택합니다.\n",
    "search_results = driver.find_elements(By.CSS_SELECTOR, 'div.box__information')\n",
    "\n",
    "for result in search_results:\n",
    "    #만족도가 없을 수도 있기에 try except문을 활용\n",
    "    try:\n",
    "        title_element = result.find_element(By.CSS_SELECTOR, 'span.text__item')\n",
    "        price_element = result.find_element(By.CSS_SELECTOR, 'div.box__price-seller > strong')\n",
    "        star_element = result.find_element(By.CSS_SELECTOR, 'span.image__awards-points > span')\n",
    "        title_list.append(title_element.text)\n",
    "        price_list.append(price_element.text)\n",
    "        star_list.append(star_element.text)\n",
    "    except:\n",
    "        pass\n",
    "    \n",
    "# 작업이 끝나면 WebDriver를 종료하여 브라우저 창을 닫습니다.\n",
    "driver.quit()"
   ]
  },
  {
   "cell_type": "markdown",
   "id": "d5562181",
   "metadata": {},
   "source": [
    "# 데이터 프레임으로 저장하고 Excel 파일로 저장하기"
   ]
  },
  {
   "cell_type": "code",
   "execution_count": 23,
   "id": "6a7f288f",
   "metadata": {},
   "outputs": [],
   "source": [
    "import pandas as pd\n",
    "\n",
    "gmarket_selenium_df = pd.DataFrame([title_list, price_list, star_list]).T"
   ]
  },
  {
   "cell_type": "code",
   "execution_count": 24,
   "id": "7a392265",
   "metadata": {},
   "outputs": [],
   "source": [
    "gmarket_selenium_df.columns = ['상품명', '판매가', '만족도']"
   ]
  },
  {
   "cell_type": "code",
   "execution_count": 25,
   "id": "176e224f",
   "metadata": {},
   "outputs": [
    {
     "data": {
      "text/html": [
       "<div>\n",
       "<style scoped>\n",
       "    .dataframe tbody tr th:only-of-type {\n",
       "        vertical-align: middle;\n",
       "    }\n",
       "\n",
       "    .dataframe tbody tr th {\n",
       "        vertical-align: top;\n",
       "    }\n",
       "\n",
       "    .dataframe thead th {\n",
       "        text-align: right;\n",
       "    }\n",
       "</style>\n",
       "<table border=\"1\" class=\"dataframe\">\n",
       "  <thead>\n",
       "    <tr style=\"text-align: right;\">\n",
       "      <th></th>\n",
       "      <th>상품명</th>\n",
       "      <th>판매가</th>\n",
       "      <th>만족도</th>\n",
       "    </tr>\n",
       "  </thead>\n",
       "  <tbody>\n",
       "    <tr>\n",
       "      <th>0</th>\n",
       "      <td>초경량 1+1 미소양품 프리미엄 소형 미니 휴대용 핸디 손 선풍기</td>\n",
       "      <td>29,900</td>\n",
       "      <td></td>\n",
       "    </tr>\n",
       "    <tr>\n",
       "      <th>1</th>\n",
       "      <td>코어팬시 미니 휴대용 선풍기 무소음 목걸이형 그린 4800mAh</td>\n",
       "      <td>22,680</td>\n",
       "      <td></td>\n",
       "    </tr>\n",
       "    <tr>\n",
       "      <th>2</th>\n",
       "      <td>휴대용 아이스 냉각 미니 손선풍기 샌드베이지</td>\n",
       "      <td>29,900</td>\n",
       "      <td></td>\n",
       "    </tr>\n",
       "    <tr>\n",
       "      <th>3</th>\n",
       "      <td>휴대용 선풍기 냉풍기 무선 저소음 각도조절 미니 써큘레이터</td>\n",
       "      <td>37,900</td>\n",
       "      <td></td>\n",
       "    </tr>\n",
       "    <tr>\n",
       "      <th>4</th>\n",
       "      <td>슈틸루스터 에어컨 선풍기 올리브 season2 ST-AF200</td>\n",
       "      <td>45,900</td>\n",
       "      <td>만족도 76% 입니다.</td>\n",
       "    </tr>\n",
       "    <tr>\n",
       "      <th>...</th>\n",
       "      <td>...</td>\n",
       "      <td>...</td>\n",
       "      <td>...</td>\n",
       "    </tr>\n",
       "    <tr>\n",
       "      <th>95</th>\n",
       "      <td>휴대용 선풍기 집게형 스탠드 무선 써큘레이터형 LED</td>\n",
       "      <td>21,900</td>\n",
       "      <td>만족도 92% 입니다.</td>\n",
       "    </tr>\n",
       "    <tr>\n",
       "      <th>96</th>\n",
       "      <td>1+1 넥밴드 선풍기 목에착 넥선풍기 휴대용 목걸이 목선풍기 핸즈프리 어깨 넥풍기 목풍기</td>\n",
       "      <td>15,900</td>\n",
       "      <td>만족도 100% 입니다.</td>\n",
       "    </tr>\n",
       "    <tr>\n",
       "      <th>97</th>\n",
       "      <td>휴대용 넥밴드 선풍기 넥 목 목걸이 유팬 목풍기 BI-NF8 블랙</td>\n",
       "      <td>33,060</td>\n",
       "      <td>만족도 82% 입니다.</td>\n",
       "    </tr>\n",
       "    <tr>\n",
       "      <th>98</th>\n",
       "      <td>휴대용 넥밴드 선풍기 충전식 넥선풍기 A206 그린</td>\n",
       "      <td>22,500</td>\n",
       "      <td>만족도 66% 입니다.</td>\n",
       "    </tr>\n",
       "    <tr>\n",
       "      <th>99</th>\n",
       "      <td>무선 휴대용 선풍기 TS-8DF45(화이트) 미니 탁상용 1+1</td>\n",
       "      <td>46,800</td>\n",
       "      <td>만족도 94% 입니다.</td>\n",
       "    </tr>\n",
       "  </tbody>\n",
       "</table>\n",
       "<p>100 rows × 3 columns</p>\n",
       "</div>"
      ],
      "text/plain": [
       "                                                  상품명     판매가            만족도\n",
       "0                초경량 1+1 미소양품 프리미엄 소형 미니 휴대용 핸디 손 선풍기  29,900               \n",
       "1                 코어팬시 미니 휴대용 선풍기 무소음 목걸이형 그린 4800mAh  22,680               \n",
       "2                            휴대용 아이스 냉각 미니 손선풍기 샌드베이지  29,900               \n",
       "3                    휴대용 선풍기 냉풍기 무선 저소음 각도조절 미니 써큘레이터  37,900               \n",
       "4                  슈틸루스터 에어컨 선풍기 올리브 season2 ST-AF200  45,900   만족도 76% 입니다.\n",
       "..                                                ...     ...            ...\n",
       "95                      휴대용 선풍기 집게형 스탠드 무선 써큘레이터형 LED  21,900   만족도 92% 입니다.\n",
       "96  1+1 넥밴드 선풍기 목에착 넥선풍기 휴대용 목걸이 목선풍기 핸즈프리 어깨 넥풍기 목풍기  15,900  만족도 100% 입니다.\n",
       "97               휴대용 넥밴드 선풍기 넥 목 목걸이 유팬 목풍기 BI-NF8 블랙  33,060   만족도 82% 입니다.\n",
       "98                       휴대용 넥밴드 선풍기 충전식 넥선풍기 A206 그린  22,500   만족도 66% 입니다.\n",
       "99                무선 휴대용 선풍기 TS-8DF45(화이트) 미니 탁상용 1+1  46,800   만족도 94% 입니다.\n",
       "\n",
       "[100 rows x 3 columns]"
      ]
     },
     "execution_count": 25,
     "metadata": {},
     "output_type": "execute_result"
    }
   ],
   "source": [
    "gmarket_selenium_df"
   ]
  },
  {
   "cell_type": "code",
   "execution_count": 26,
   "id": "ec181364",
   "metadata": {},
   "outputs": [],
   "source": [
    "def extract_comma(x):\n",
    "    price = int(x.replace(\",\", \"\")) #replace로 쉼표까지 제거하고 int로 변환\n",
    "    return price"
   ]
  },
  {
   "cell_type": "code",
   "execution_count": 27,
   "id": "9b7d9fb6",
   "metadata": {},
   "outputs": [],
   "source": [
    "gmarket_selenium_df['판매가'] = gmarket_selenium_df['판매가'].apply(extract_comma)"
   ]
  },
  {
   "cell_type": "code",
   "execution_count": 28,
   "id": "9164b40b",
   "metadata": {},
   "outputs": [],
   "source": [
    "import re\n",
    "\n",
    "def extract_stars(x):\n",
    "    ext = re.findall(\"\\d+%\", x)\n",
    "    #데이터가 빈 경우가 있으므로 try, except문 사용\n",
    "    try:\n",
    "        stars = int(ext[0].replace('%', \"\")) #%를 제거한 뒤 int로 변환\n",
    "    except:\n",
    "        pass\n",
    "    return stars if ext else None #데이터가 있을 경우 stars를 반환, 아닐 경우 None을 반환"
   ]
  },
  {
   "cell_type": "code",
   "execution_count": 29,
   "id": "230d91f7",
   "metadata": {},
   "outputs": [],
   "source": [
    "gmarket_selenium_df['만족도'] = gmarket_selenium_df['만족도'].apply(extract_stars)"
   ]
  },
  {
   "cell_type": "code",
   "execution_count": 30,
   "id": "a25fd9f2",
   "metadata": {},
   "outputs": [],
   "source": [
    "gmarket_selenium_df = gmarket_selenium_df.dropna().reset_index().iloc[:, 1:]"
   ]
  },
  {
   "cell_type": "code",
   "execution_count": 31,
   "id": "7c58aa80",
   "metadata": {},
   "outputs": [
    {
     "data": {
      "text/html": [
       "<div>\n",
       "<style scoped>\n",
       "    .dataframe tbody tr th:only-of-type {\n",
       "        vertical-align: middle;\n",
       "    }\n",
       "\n",
       "    .dataframe tbody tr th {\n",
       "        vertical-align: top;\n",
       "    }\n",
       "\n",
       "    .dataframe thead th {\n",
       "        text-align: right;\n",
       "    }\n",
       "</style>\n",
       "<table border=\"1\" class=\"dataframe\">\n",
       "  <thead>\n",
       "    <tr style=\"text-align: right;\">\n",
       "      <th></th>\n",
       "      <th>상품명</th>\n",
       "      <th>판매가</th>\n",
       "      <th>만족도</th>\n",
       "    </tr>\n",
       "  </thead>\n",
       "  <tbody>\n",
       "    <tr>\n",
       "      <th>0</th>\n",
       "      <td>슈틸루스터 에어컨 선풍기 올리브 season2 ST-AF200</td>\n",
       "      <td>45900</td>\n",
       "      <td>76.0</td>\n",
       "    </tr>\n",
       "    <tr>\n",
       "      <th>1</th>\n",
       "      <td>이지마켓 초강력미니선풍기 미니 손선풍기 에어컨손풍기 얼음이 내손안에 핸디써큘레이터</td>\n",
       "      <td>29900</td>\n",
       "      <td>94.0</td>\n",
       "    </tr>\n",
       "    <tr>\n",
       "      <th>2</th>\n",
       "      <td>휴대용 냉각 선풍기 쿨링 핸디팬 다크그레이</td>\n",
       "      <td>27900</td>\n",
       "      <td>88.0</td>\n",
       "    </tr>\n",
       "    <tr>\n",
       "      <th>3</th>\n",
       "      <td>LOOC 룩 휴대용 선풍기 미니 손 핸디형 손풍기 - 블랙</td>\n",
       "      <td>15900</td>\n",
       "      <td>94.0</td>\n",
       "    </tr>\n",
       "    <tr>\n",
       "      <th>4</th>\n",
       "      <td>휴대용 아이스 냉각 미니 손선풍기 딥브라운</td>\n",
       "      <td>29900</td>\n",
       "      <td>88.0</td>\n",
       "    </tr>\n",
       "    <tr>\n",
       "      <th>...</th>\n",
       "      <td>...</td>\n",
       "      <td>...</td>\n",
       "      <td>...</td>\n",
       "    </tr>\n",
       "    <tr>\n",
       "      <th>91</th>\n",
       "      <td>휴대용 선풍기 집게형 스탠드 무선 써큘레이터형 LED</td>\n",
       "      <td>21900</td>\n",
       "      <td>92.0</td>\n",
       "    </tr>\n",
       "    <tr>\n",
       "      <th>92</th>\n",
       "      <td>1+1 넥밴드 선풍기 목에착 넥선풍기 휴대용 목걸이 목선풍기 핸즈프리 어깨 넥풍기 목풍기</td>\n",
       "      <td>15900</td>\n",
       "      <td>100.0</td>\n",
       "    </tr>\n",
       "    <tr>\n",
       "      <th>93</th>\n",
       "      <td>휴대용 넥밴드 선풍기 넥 목 목걸이 유팬 목풍기 BI-NF8 블랙</td>\n",
       "      <td>33060</td>\n",
       "      <td>82.0</td>\n",
       "    </tr>\n",
       "    <tr>\n",
       "      <th>94</th>\n",
       "      <td>휴대용 넥밴드 선풍기 충전식 넥선풍기 A206 그린</td>\n",
       "      <td>22500</td>\n",
       "      <td>66.0</td>\n",
       "    </tr>\n",
       "    <tr>\n",
       "      <th>95</th>\n",
       "      <td>무선 휴대용 선풍기 TS-8DF45(화이트) 미니 탁상용 1+1</td>\n",
       "      <td>46800</td>\n",
       "      <td>94.0</td>\n",
       "    </tr>\n",
       "  </tbody>\n",
       "</table>\n",
       "<p>96 rows × 3 columns</p>\n",
       "</div>"
      ],
      "text/plain": [
       "                                                  상품명    판매가    만족도\n",
       "0                  슈틸루스터 에어컨 선풍기 올리브 season2 ST-AF200  45900   76.0\n",
       "1       이지마켓 초강력미니선풍기 미니 손선풍기 에어컨손풍기 얼음이 내손안에 핸디써큘레이터  29900   94.0\n",
       "2                             휴대용 냉각 선풍기 쿨링 핸디팬 다크그레이  27900   88.0\n",
       "3                    LOOC 룩 휴대용 선풍기 미니 손 핸디형 손풍기 - 블랙  15900   94.0\n",
       "4                             휴대용 아이스 냉각 미니 손선풍기 딥브라운  29900   88.0\n",
       "..                                                ...    ...    ...\n",
       "91                      휴대용 선풍기 집게형 스탠드 무선 써큘레이터형 LED  21900   92.0\n",
       "92  1+1 넥밴드 선풍기 목에착 넥선풍기 휴대용 목걸이 목선풍기 핸즈프리 어깨 넥풍기 목풍기  15900  100.0\n",
       "93               휴대용 넥밴드 선풍기 넥 목 목걸이 유팬 목풍기 BI-NF8 블랙  33060   82.0\n",
       "94                       휴대용 넥밴드 선풍기 충전식 넥선풍기 A206 그린  22500   66.0\n",
       "95                무선 휴대용 선풍기 TS-8DF45(화이트) 미니 탁상용 1+1  46800   94.0\n",
       "\n",
       "[96 rows x 3 columns]"
      ]
     },
     "execution_count": 31,
     "metadata": {},
     "output_type": "execute_result"
    }
   ],
   "source": [
    "#gmarket_selenium_df.to_excel('gmarket_handfan_stars.xlsx')\n",
    "gmarket_selenium_df"
   ]
  },
  {
   "cell_type": "markdown",
   "id": "991f806a",
   "metadata": {},
   "source": [
    "# 과제 (100점)"
   ]
  },
  {
   "cell_type": "markdown",
   "id": "f2f4a5c1",
   "metadata": {},
   "source": [
    "#### 본인이 관심 있는 키워드에 대해서 해당 크롤링을 반복해서 수행하시오. 데이터를 수집하여 excel 파일로 저장하시오."
   ]
  },
  {
   "cell_type": "code",
   "execution_count": 64,
   "id": "33c4a281",
   "metadata": {},
   "outputs": [],
   "source": [
    "#1. 필요한 라이브러리 import 하기 (10점)\n"
   ]
  },
  {
   "cell_type": "code",
   "execution_count": 65,
   "id": "895a50b8",
   "metadata": {},
   "outputs": [],
   "source": [
    "#2. 본인이 관심 있는 키워드에 대해서 크롤링을 수행하고 상품명, 가격, 별점 정보 저장하기 (40점)\n"
   ]
  },
  {
   "cell_type": "code",
   "execution_count": null,
   "id": "99c586a5",
   "metadata": {},
   "outputs": [],
   "source": [
    "#3. 적절히 데이터 전처리를 하여 DataFrame 객체로 만들고 Excel 파일로 저장하기 (50점)\n",
    "#이때, DataFrame의 열은 \"상품명, 판매가, 만족도\"로 구성되어야 함.\n"
   ]
  }
 ],
 "metadata": {
  "kernelspec": {
   "display_name": "Python 3 (ipykernel)",
   "language": "python",
   "name": "python3"
  },
  "language_info": {
   "codemirror_mode": {
    "name": "ipython",
    "version": 3
   },
   "file_extension": ".py",
   "mimetype": "text/x-python",
   "name": "python",
   "nbconvert_exporter": "python",
   "pygments_lexer": "ipython3",
   "version": "3.9.6"
  }
 },
 "nbformat": 4,
 "nbformat_minor": 5
}
